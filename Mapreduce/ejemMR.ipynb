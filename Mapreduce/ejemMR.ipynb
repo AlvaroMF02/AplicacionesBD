{
 "cells": [
  {
   "cell_type": "code",
   "execution_count": 4,
   "metadata": {},
   "outputs": [],
   "source": [
    "from mrjob.job import MRJob"
   ]
  },
  {
   "cell_type": "code",
   "execution_count": 9,
   "metadata": {},
   "outputs": [],
   "source": [
    "class WordCount(MRJob):\n",
    "    \n",
    "    def mapper(self,_,line):\n",
    "        # Aquí cada línea de entrada se procesa\n",
    "        for word in line.split():\n",
    "            # Emitimos la palabra con un contador de 1\n",
    "            yield (word, 1)\n",
    "        \n",
    "    \n",
    "    def reducer(self,word,count):\n",
    "        # Sumamos todos los valores asociados a una misma palabra\n",
    "        yield (word, sum(count)) "
   ]
  },
  {
   "cell_type": "code",
   "execution_count": 10,
   "metadata": {},
   "outputs": [],
   "source": [
    "import json"
   ]
  },
  {
   "cell_type": "code",
   "execution_count": 26,
   "metadata": {},
   "outputs": [
    {
     "name": "stdout",
     "output_type": "stream",
     "text": [
      "It's good for beginners\n"
     ]
    }
   ],
   "source": [
    "with open(\"/home/albaro/Documentos/Musical_Instruments_5.json\",\"r\") as j:\n",
    "    linea = j.readline()\n",
    "\n",
    "linea = json.loads(linea)\n",
    "print(linea[\"reviewText\"])"
   ]
  },
  {
   "cell_type": "code",
   "execution_count": null,
   "metadata": {},
   "outputs": [],
   "source": []
  }
 ],
 "metadata": {
  "kernelspec": {
   "display_name": "Python 3",
   "language": "python",
   "name": "python3"
  },
  "language_info": {
   "codemirror_mode": {
    "name": "ipython",
    "version": 3
   },
   "file_extension": ".py",
   "mimetype": "text/x-python",
   "name": "python",
   "nbconvert_exporter": "python",
   "pygments_lexer": "ipython3",
   "version": "3.10.12"
  }
 },
 "nbformat": 4,
 "nbformat_minor": 2
}
