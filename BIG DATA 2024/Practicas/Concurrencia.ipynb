{
 "cells": [
  {
   "cell_type": "code",
   "execution_count": 1,
   "id": "1608a501-fde3-412e-9de9-a2eaf4492bde",
   "metadata": {},
   "outputs": [],
   "source": [
    "import time\n",
    "import math\n",
    "from concurrent.futures import ProcessPoolExecutor"
   ]
  },
  {
   "cell_type": "markdown",
   "id": "3dfce8d4-53cf-49a9-8412-61cd3b261886",
   "metadata": {},
   "source": [
    "# Contar números primos en un rango"
   ]
  },
  {
   "cell_type": "markdown",
   "id": "4cff2ccc-4e1d-497e-99a8-5e9550716afc",
   "metadata": {},
   "source": [
    "## Definir una función que nos diga si un número es primo\n",
    "\n",
    "Toma como entrada un número\n",
    "\n",
    "Trata de dividir ese número entre todos los que haya entre 2 y su raiz cuadrada\n",
    "\n",
    "Si es divisible entre alguno de ellos, no es primo\n",
    "\n",
    "Si no es divisible por ningún número, entonces es primo\n",
    "\n"
   ]
  },
  {
   "cell_type": "code",
   "execution_count": 2,
   "id": "050b522b-db79-482c-91af-a34b145fb771",
   "metadata": {},
   "outputs": [],
   "source": [
    "def es_primo(num: int) -> int:\n",
    "    if num < 2:\n",
    "        return False\n",
    "    for i in range(2, int(math.sqrt(num))+1):\n",
    "        if num % i == 0:\n",
    "            return False\n",
    "    return True\n"
   ]
  },
  {
   "cell_type": "code",
   "execution_count": 3,
   "id": "c8701f5d-a87c-4b71-b5d0-6afb06ad5c36",
   "metadata": {},
   "outputs": [
    {
     "data": {
      "text/plain": [
       "False"
      ]
     },
     "execution_count": 3,
     "metadata": {},
     "output_type": "execute_result"
    }
   ],
   "source": [
    "es_primo(12)"
   ]
  },
  {
   "cell_type": "code",
   "execution_count": 4,
   "id": "7aaade32-0a14-4eda-b8b3-2b1acd305f08",
   "metadata": {},
   "outputs": [
    {
     "data": {
      "text/plain": [
       "True"
      ]
     },
     "execution_count": 4,
     "metadata": {},
     "output_type": "execute_result"
    }
   ],
   "source": [
    "es_primo(11)"
   ]
  },
  {
   "cell_type": "markdown",
   "id": "7f1de52b-fd66-410c-a7c6-a27e6efd3004",
   "metadata": {},
   "source": [
    "## Solución iterativa (un solo núcleo)\n",
    "\n",
    "Creamos una función contar primos que cuenta el número de números primos dentro de un rango\n",
    "\n",
    "Toma como entrada \"inicio\" y \"fin\"\n",
    "\n",
    "Devuelve el número de primos en ese rango"
   ]
  },
  {
   "cell_type": "code",
   "execution_count": 5,
   "id": "30a7e591-a7a1-4ceb-b556-b96f0449f954",
   "metadata": {},
   "outputs": [],
   "source": [
    "def contar_primos(inicio: int, fin: int) -> int:\n",
    "    res = 0\n",
    "    for i in range(inicio, fin+1):\n",
    "        if es_primo(i):\n",
    "            res += 1\n",
    "    return res"
   ]
  },
  {
   "cell_type": "code",
   "execution_count": 6,
   "id": "01421039-2ae8-489c-9da9-8121334ec3a2",
   "metadata": {},
   "outputs": [
    {
     "data": {
      "text/plain": [
       "4"
      ]
     },
     "execution_count": 6,
     "metadata": {},
     "output_type": "execute_result"
    }
   ],
   "source": [
    "contar_primos(1, 10)"
   ]
  },
  {
   "cell_type": "code",
   "execution_count": 7,
   "id": "6bb430c1-04e1-47db-929e-85bf0ba62099",
   "metadata": {},
   "outputs": [
    {
     "data": {
      "text/plain": [
       "5"
      ]
     },
     "execution_count": 7,
     "metadata": {},
     "output_type": "execute_result"
    }
   ],
   "source": [
    "contar_primos(2,11)"
   ]
  },
  {
   "cell_type": "markdown",
   "id": "a67d8a75-c1fa-4f25-a488-1dcc838c405e",
   "metadata": {},
   "source": [
    "## Medir los tiempos"
   ]
  },
  {
   "cell_type": "code",
   "execution_count": 8,
   "id": "c20af0ab-1d32-4f57-a3a0-994441d867ec",
   "metadata": {},
   "outputs": [],
   "source": [
    "def test(num_inicio, num_fin):\n",
    "    t_inicio = time.time()\n",
    "    total_primos = contar_primos(num_inicio, num_fin)\n",
    "    t_fin = time.time()\n",
    "    print(f\"Hay {total_primos} numeros primos entre {num_inicio} y {num_fin}\")\n",
    "    print(f\"He tardado {t_fin-t_inicio} segundos en calcularlo\")"
   ]
  },
  {
   "cell_type": "code",
   "execution_count": 9,
   "id": "414e2a55-973a-4daf-8f02-b7f98ea399d2",
   "metadata": {},
   "outputs": [
    {
     "name": "stdout",
     "output_type": "stream",
     "text": [
      "Hay 168 numeros primos entre 2 y 1000\n",
      "He tardado 0.000652313232421875 segundos en calcularlo\n"
     ]
    }
   ],
   "source": [
    "test(2,1000)"
   ]
  },
  {
   "cell_type": "code",
   "execution_count": 12,
   "id": "f35ddf1a-8511-48fc-ba55-d79fcff6ab47",
   "metadata": {},
   "outputs": [
    {
     "name": "stdout",
     "output_type": "stream",
     "text": [
      "Hay 283146 numeros primos entre 2 y 4000000\n",
      "He tardado 14.761511087417603 segundos en calcularlo\n"
     ]
    }
   ],
   "source": [
    "test(2,4000000)"
   ]
  },
  {
   "cell_type": "markdown",
   "id": "415fe5ed-0178-4d76-8435-21b540298b55",
   "metadata": {},
   "source": [
    "# Mismo ejemplo, pero de manera concurrente"
   ]
  },
  {
   "cell_type": "markdown",
   "id": "ac265d50-aa2b-4fcc-ad85-be12de369ac4",
   "metadata": {},
   "source": [
    "Librería a utilizar: _concurrent_\n",
    "\n",
    "Más concretamente la clase _ProcessPoolExecutor_ dentro de _concurrent.futures_\n",
    "\n",
    "ProcessPoolExecutor crea un conjunto de procesos que ejecuta el mismo método en cada uno de ellos tomando como entrada el método a ejecutar y los argumentos."
   ]
  },
  {
   "cell_type": "markdown",
   "id": "b15fd352-b309-4f93-a389-98f9cea6d61c",
   "metadata": {},
   "source": [
    "### Ejemplo de uso del pool process executor"
   ]
  },
  {
   "cell_type": "code",
   "execution_count": 13,
   "id": "7164c4bc-38e0-478b-b523-9d8d6acfe8d0",
   "metadata": {},
   "outputs": [
    {
     "name": "stdout",
     "output_type": "stream",
     "text": [
      "3\n",
      "7\n",
      "11\n",
      "15\n"
     ]
    }
   ],
   "source": [
    "with ProcessPoolExecutor(max_workers=4) as pool_executor:\n",
    "    temp = pool_executor.map(sum, [(1, 2),(3, 4),(5, 6),(7, 8)])\n",
    "\n",
    "for t in temp:\n",
    "    print(t)"
   ]
  },
  {
   "cell_type": "markdown",
   "id": "be62f80b-4f03-4f45-9b7d-13068589dcb2",
   "metadata": {},
   "source": [
    "## Transformando la función para hacerla concurrente\n",
    "\n",
    "Necesito separar mi intervalo inicial en rangos"
   ]
  },
  {
   "cell_type": "code",
   "execution_count": 14,
   "id": "adc67fd8-4bc1-43cb-81a0-c9b914cbcff7",
   "metadata": {},
   "outputs": [],
   "source": [
    "def separar_en_rangos(inicio: int, fin: int, rangos: int) -> [int]:\n",
    "    \"\"\"\n",
    "    Distribuir más o menos equitativamente los números en rangos\n",
    "    Ejemplo: inicio=10, fin=30, rangos=2\n",
    "        resultado: [(10,19), (20, 30)]\n",
    "    \"\"\"\n",
    "    rango_total = fin-inicio\n",
    "    rango_size = rango_total // rangos\n",
    "    res = []\n",
    "    # Voy a ir metiendo en res cada uno de los rangos\n",
    "    for i in range(rangos):\n",
    "        res.append((\n",
    "            inicio+i*rango_size,\n",
    "            inicio+(i+1)*rango_size-1\n",
    "        ))\n",
    "        \n",
    "    # Me falta incluir el último valor en el último rango\n",
    "    res[-1] = (res[-1][0], res[-1][1]+1)\n",
    "    return res"
   ]
  },
  {
   "cell_type": "code",
   "execution_count": 15,
   "id": "3329b8c7-655f-420b-aafe-729fbf6d9e9c",
   "metadata": {},
   "outputs": [
    {
     "data": {
      "text/plain": [
       "[(10, 19), (20, 30)]"
      ]
     },
     "execution_count": 15,
     "metadata": {},
     "output_type": "execute_result"
    }
   ],
   "source": [
    "# Una prueba\n",
    "separar_en_rangos(10,30,2)"
   ]
  },
  {
   "cell_type": "markdown",
   "id": "bc82d2e4-fb35-4683-8a26-c68fb1cb0d76",
   "metadata": {},
   "source": [
    "### Contar primos que admita una tupla como entrada\n",
    "\n",
    "Ahora tengo que tener en cuenta que process executor requiere una tupla como entrada."
   ]
  },
  {
   "cell_type": "code",
   "execution_count": 16,
   "id": "e441fe5d-4466-4fb5-9c0b-5796c08e3d1a",
   "metadata": {},
   "outputs": [],
   "source": [
    "def contar_primos_rango(rango: (int,int)) -> int:\n",
    "    \"\"\"\n",
    "    Devuelve el número de primos entre un rango dado como (inicio, fin)\n",
    "    \"\"\"\n",
    "    inicio = rango[0]\n",
    "    fin = rango[1]\n",
    "    return contar_primos(inicio, fin)"
   ]
  },
  {
   "cell_type": "code",
   "execution_count": 17,
   "id": "9c417d8e-ed7d-475e-b035-a1515e5d1e40",
   "metadata": {},
   "outputs": [
    {
     "data": {
      "text/plain": [
       "5"
      ]
     },
     "execution_count": 17,
     "metadata": {},
     "output_type": "execute_result"
    }
   ],
   "source": [
    "# Probamos esta funcion\n",
    "rango_temp = (1, 12)\n",
    "contar_primos_rango(rango_temp)"
   ]
  },
  {
   "cell_type": "markdown",
   "id": "01d530de-476f-4495-b1ba-de8d647c9940",
   "metadata": {},
   "source": [
    "### Creamos la función para contar números primos concurrentemente\n",
    "\n",
    "Para ello hay que utilizar el ProcessPoolExecutor para ejecutar la función \"contar_primos_rango\" en cada uno de los rangos"
   ]
  },
  {
   "cell_type": "code",
   "execution_count": 18,
   "id": "d1b9f434-26b5-4b5d-8757-313f9bdfd05a",
   "metadata": {},
   "outputs": [],
   "source": [
    "def contar_primos_concurrente(inicio: int, fin: int, hilos: int=4) -> int:\n",
    "    \"\"\"\n",
    "    \"\"\"\n",
    "    # Dividir la tarea en subtareas\n",
    "    # Es decir, en distintos rangos\n",
    "    rangos = separar_en_rangos(inicio, fin, hilos)\n",
    "\n",
    "    # Crear el pool de procesos y ejecutarlos\n",
    "    with ProcessPoolExecutor(max_workers=hilos) as pool_executor:\n",
    "        res_procesos = pool_executor.map(contar_primos_rango, rangos)\n",
    "    return sum(res_procesos)"
   ]
  },
  {
   "cell_type": "code",
   "execution_count": 19,
   "id": "1483ea5a-1ae9-49fc-8b64-0a20b2444d43",
   "metadata": {},
   "outputs": [
    {
     "data": {
      "text/plain": [
       "[(2, 6), (7, 12)]"
      ]
     },
     "execution_count": 19,
     "metadata": {},
     "output_type": "execute_result"
    }
   ],
   "source": [
    "separar_en_rangos(2, 12, 2)"
   ]
  },
  {
   "cell_type": "code",
   "execution_count": 20,
   "id": "a3363095-671a-47d8-abe9-2b307aab45a9",
   "metadata": {},
   "outputs": [
    {
     "data": {
      "text/plain": [
       "5"
      ]
     },
     "execution_count": 20,
     "metadata": {},
     "output_type": "execute_result"
    }
   ],
   "source": [
    "contar_primos_concurrente(2,12,hilos=2)"
   ]
  },
  {
   "cell_type": "markdown",
   "id": "db095447-77c8-4132-a60a-626d574cfc00",
   "metadata": {},
   "source": [
    "### Medir tiempos y comparar con el approach iterativo"
   ]
  },
  {
   "cell_type": "code",
   "execution_count": 21,
   "id": "108f7401-bca8-48b2-9790-30f4e4f96e84",
   "metadata": {},
   "outputs": [],
   "source": [
    "def test_concurrente(inicio, fin, hilos):\n",
    "    t_inicio = time.time()\n",
    "    total_primos = contar_primos_concurrente(inicio, fin, hilos)\n",
    "    t_fin = time.time()\n",
    "\n",
    "    print(f\"Hay {total_primos} entre {inicio} y {fin}\")\n",
    "    print(f\"He tardado {t_fin-t_inicio} segundos en calcularlo con {hilos} hilos.\")"
   ]
  },
  {
   "cell_type": "code",
   "execution_count": 22,
   "id": "5a651a80-5d42-4355-a9b8-21909c73e1ac",
   "metadata": {},
   "outputs": [
    {
     "name": "stdout",
     "output_type": "stream",
     "text": [
      "Hay 4 entre 2 y 12\n",
      "He tardado 0.016586780548095703 segundos en calcularlo con 4 hilos.\n"
     ]
    }
   ],
   "source": [
    "test_concurrente(2,12, 4)"
   ]
  },
  {
   "cell_type": "code",
   "execution_count": 27,
   "id": "ccc7a3df-ff60-488c-a35d-9727838f82d3",
   "metadata": {},
   "outputs": [
    {
     "name": "stdout",
     "output_type": "stream",
     "text": [
      "Hay 148933 numeros primos entre 2 y 2000000\n",
      "He tardado 5.497720718383789 segundos en calcularlo\n",
      "Hay 148933 entre 2 y 2000000\n",
      "He tardado 2.6217010021209717 segundos en calcularlo con 4 hilos.\n"
     ]
    }
   ],
   "source": [
    "test(2, 2000000)\n",
    "test_concurrente(2,2000000, hilos=4)"
   ]
  },
  {
   "cell_type": "code",
   "execution_count": 29,
   "id": "e1eb769f-fb7e-4153-9a67-2a12185343c8",
   "metadata": {},
   "outputs": [
    {
     "name": "stdout",
     "output_type": "stream",
     "text": [
      "Hay 283146 entre 2 y 4000000\n",
      "He tardado 16.6339910030365 segundos en calcularlo con 1 hilos.\n",
      "Hay 283146 entre 2 y 4000000\n",
      "He tardado 11.133265256881714 segundos en calcularlo con 2 hilos.\n",
      "Hay 283146 entre 2 y 4000000\n",
      "He tardado 7.057806968688965 segundos en calcularlo con 4 hilos.\n",
      "Hay 283146 entre 2 y 4000000\n",
      "He tardado 5.590848207473755 segundos en calcularlo con 8 hilos.\n",
      "Hay 283146 entre 2 y 4000000\n",
      "He tardado 6.49009895324707 segundos en calcularlo con 16 hilos.\n",
      "Hay 283145 entre 2 y 4000000\n",
      "He tardado 6.352636337280273 segundos en calcularlo con 32 hilos.\n",
      "Hay 283131 entre 2 y 4000000\n",
      "He tardado 6.894747734069824 segundos en calcularlo con 256 hilos.\n"
     ]
    }
   ],
   "source": [
    "inicio = 2\n",
    "fin = 4000000\n",
    "test_concurrente(inicio, fin, hilos=1)\n",
    "test_concurrente(inicio, fin, hilos=2)\n",
    "test_concurrente(inicio, fin, hilos=4)\n",
    "test_concurrente(inicio, fin, hilos=8)\n",
    "test_concurrente(inicio, fin, hilos=16)\n",
    "test_concurrente(inicio, fin, hilos=32)\n",
    "test_concurrente(inicio, fin, hilos=256)"
   ]
  },
  {
   "cell_type": "markdown",
   "id": "3e8d5608-aab0-4719-aa26-ebe198f1b564",
   "metadata": {},
   "source": [
    "## El problema de las Race Conditions\n",
    "\n",
    "¿Qué pasas cuando varios procesos deben acceder al mismo recurso?\n",
    "\n",
    "Utilizando un \n",
    "\n"
   ]
  },
  {
   "cell_type": "code",
   "execution_count": 31,
   "id": "6ca3ee6e-283b-4fb8-8ca4-0bcc67c239c9",
   "metadata": {},
   "outputs": [],
   "source": [
    "import os\n",
    "import random"
   ]
  },
  {
   "cell_type": "code",
   "execution_count": 32,
   "id": "87c74e7f-5b51-4db7-8300-2e3827d11d71",
   "metadata": {},
   "outputs": [],
   "source": [
    "COUNTER_FILE = 'mi_contador.txt'"
   ]
  },
  {
   "cell_type": "markdown",
   "id": "2ff630c0-d83a-410d-9a32-94086b2be7e0",
   "metadata": {},
   "source": [
    "Definimos funciones para inicializar, leer y escribir el valor en el archivo.\n",
    "\n",
    "Definimos una función para incrementar el contador que haga uso de las 3 anteriores, con un pequeño retardo aleatorio para simular una operación computacionalmente costosa."
   ]
  },
  {
   "cell_type": "code",
   "execution_count": 33,
   "id": "58e104b1-5a4d-47b5-a7c0-fc966c4abb2c",
   "metadata": {},
   "outputs": [],
   "source": [
    "def init_counter():\n",
    "    \"\"\"\n",
    "    Inicializa el valor del archivo a cero\n",
    "    \"\"\"\n",
    "    with open(COUNTER_FILE, \"w\") as f:\n",
    "        f.write(\"0\")\n",
    "\n",
    "def read_counter():\n",
    "    \"\"\"\n",
    "    Lee el valor del contador desde el archivo.\n",
    "    \"\"\"\n",
    "    with open(COUNTER_FILE, \"r\") as f:\n",
    "        return int(f.read().strip())\n",
    "\n",
    "def write_counter(value):\n",
    "    \"\"\"\n",
    "    Escribe un nuevo valor en el archivo del contador.\n",
    "    \"\"\"\n",
    "    with open(COUNTER_FILE, \"w\") as f:\n",
    "        f.write(str(value))\n",
    "\n",
    "def increment_counter():\n",
    "    \"\"\"\n",
    "    Incrementa el contador (función computacionalmente costosa).\n",
    "    \"\"\"\n",
    "    current_value = read_counter()\n",
    "    time.sleep(random.uniform(0.01, 0.1))  # Simula una operación lenta\n",
    "    new_value = current_value + 1\n",
    "    write_counter(new_value)\n",
    "    print(f\"Proceso {os.getpid()} incrementó el contador a {new_value}\")"
   ]
  },
  {
   "cell_type": "markdown",
   "id": "f66798f8-260c-4796-b75c-e70d9678e9b3",
   "metadata": {},
   "source": [
    "### ¿Qué pasa si ejecutamos el increment_counter en varios hilos simultáneamente?"
   ]
  },
  {
   "cell_type": "code",
   "execution_count": 36,
   "id": "a5e4ef4c-7def-4df6-bb59-54f619809c99",
   "metadata": {},
   "outputs": [
    {
     "name": "stdout",
     "output_type": "stream",
     "text": [
      "Proceso 3038 incrementó el contador a 1Proceso 3039 incrementó el contador a 1\n",
      "\n",
      "Proceso 3033 incrementó el contador a 1Proceso 3035 incrementó el contador a 1\n",
      "\n",
      "Proceso 3034 incrementó el contador a 1\n",
      "Proceso 3037 incrementó el contador a 1\n",
      "Proceso 3041 incrementó el contador a 1\n",
      "Proceso 3032 incrementó el contador a 1\n",
      "Proceso 3036 incrementó el contador a 1\n",
      "Proceso 3040 incrementó el contador a 1\n",
      "\n",
      "Valor final esperado: 10\n",
      "Valor final real: 1\n"
     ]
    }
   ],
   "source": [
    "init_counter()\n",
    "hilos = 10  # Número de procesos en paralelo\n",
    "\n",
    "with ProcessPoolExecutor(max_workers=hilos) as executor:\n",
    "    futures = [executor.submit(increment_counter) for _ in range(hilos)]\n",
    "\n",
    "# Esperamos que todos los hilos terminen\n",
    "for future in futures:\n",
    "    future.result()\n",
    "\n",
    "# Mostramos el valor final del contador\n",
    "final_value = read_counter()\n",
    "print(f\"\\nValor final esperado: {hilos}\")\n",
    "print(f\"Valor final real: {final_value}\")"
   ]
  },
  {
   "cell_type": "markdown",
   "id": "e97467d3-b82c-47e2-8018-7d1640d06261",
   "metadata": {},
   "source": [
    "### ¿Cómo soluciono esto?\n",
    "\n",
    "La solución es bloquear el acceso al archivo mientras estoy haciendo la operación de incrementar\n",
    "\n",
    "Para ello, un hilo puede crear un lock y mientras el lock exista, nadie más debe tocar el archivo de \"mi_contador\". Cuando termine de hacer la operación crítica con mi recurso compartido (lectura/escritura) elimino el \"lock\" para que otro proceso pueda acceder a los recursos si quiere.\n",
    "\n",
    "Esto se puede hacer con un archivo. Cuando tenga que incrementar el archivo:\n",
    "\n",
    "* Si hay un archivo \"lock.txt\", me espero a que no lo haya.\n",
    "* Si no hay un archivo \"lock.txt\", lo creo.\n",
    "    * Hago mis opreciones con el recurso compartido.\n",
    "* Elimino el archivo \"lock.txt\" para que otro proceso pueda acceder al recurso compartido.\n",
    "\n",
    "De esta forma solo el proceso que haya creado el lock podrá editar el archivo de \"mi_contador\"."
   ]
  },
  {
   "cell_type": "code",
   "execution_count": 37,
   "id": "da4aa961-59a4-4c92-adc9-267f7d41473c",
   "metadata": {},
   "outputs": [],
   "source": [
    "LOCK_FILE = \"lock.txt\""
   ]
  },
  {
   "cell_type": "markdown",
   "id": "1af700b9-a38c-4ca8-b05c-74055ab12cda",
   "metadata": {},
   "source": [
    "Hay que crear tres nuevos métodos:\n",
    "\n",
    "* Adquirir el lock\n",
    "* Liberar el lock\n",
    "* Incrementar (utilizando el lock para esperar si no puedo)"
   ]
  },
  {
   "cell_type": "code",
   "execution_count": 38,
   "id": "f253d48c-826c-4391-b5c9-6c8d3ed8d669",
   "metadata": {},
   "outputs": [],
   "source": [
    "def acquire_lock():\n",
    "    \"\"\"\n",
    "    Crea un archivo de Lock si no existe. Si existe, espera hasta que se libere.\n",
    "    El proceso que consiguió crear el archivo, seguirá\n",
    "    Los demás se quedarán esperando\n",
    "    \"\"\"\n",
    "    while True:\n",
    "        try:\n",
    "            # Intentamos crear el archivo en modo exclusivo\n",
    "            with open(LOCK_FILE, \"x\"):\n",
    "                return  # Lock adquirido, salir del bucle\n",
    "        except FileExistsError:\n",
    "            time.sleep(0.01)  # Si ya existe, esperar un poco y reintentar\n"
   ]
  },
  {
   "cell_type": "code",
   "execution_count": 39,
   "id": "7590cc3f-d41d-4546-99e8-5349f158bbc0",
   "metadata": {},
   "outputs": [],
   "source": [
    "def release_lock():\n",
    "    \"\"\"Elimina el archivo de Lock, permitiendo que otros procesos accedan.\"\"\"\n",
    "    try:\n",
    "        os.remove(LOCK_FILE)\n",
    "    except FileNotFoundError:\n",
    "        pass  # Si el archivo ya fue eliminado, ignorar"
   ]
  },
  {
   "cell_type": "code",
   "execution_count": 40,
   "id": "5c35f3e2-80d3-4a4f-92d5-f4500fec011c",
   "metadata": {},
   "outputs": [],
   "source": [
    "def increment_counter_with_lock():\n",
    "    \"\"\"Incrementa el contador solo si es el dueño del lock.\"\"\"\n",
    "    print(f\"Inicio del hilo {os.getpid()}\")\n",
    "    acquire_lock()  # Si puedo adquirir el lock, sigo. Si no, me quedo esperando a que me toque.\n",
    "    try:\n",
    "        current_value = read_counter()\n",
    "        time.sleep(random.uniform(0.01, 0.1))  # Simula una operación lenta\n",
    "        new_value = current_value + 1\n",
    "        write_counter(new_value)\n",
    "        print(f\"Proceso {os.getpid()} incrementó el contador a {new_value}\")\n",
    "    finally:\n",
    "        release_lock()  # 🔓 Libera el Lock"
   ]
  },
  {
   "cell_type": "code",
   "execution_count": 41,
   "id": "062f8762-d42c-475d-84a2-003f20b438fe",
   "metadata": {},
   "outputs": [
    {
     "name": "stdout",
     "output_type": "stream",
     "text": [
      "Inicio del hilo 3136Inicio del hilo 3140Inicio del hilo 3142Inicio del hilo 3141Inicio del hilo 3139Inicio del hilo 3137Inicio del hilo 3138\n",
      "\n",
      "Inicio del hilo 3145\n",
      "Inicio del hilo 3144Inicio del hilo 3143\n",
      "\n",
      "\n",
      "\n",
      "\n",
      "\n",
      "\n",
      "Proceso 3136 incrementó el contador a 1\n",
      "Proceso 3138 incrementó el contador a 2\n",
      "Proceso 3145 incrementó el contador a 3\n",
      "Proceso 3137 incrementó el contador a 4\n",
      "Proceso 3140 incrementó el contador a 5\n",
      "Proceso 3139 incrementó el contador a 6\n",
      "Proceso 3141 incrementó el contador a 7\n",
      "Proceso 3142 incrementó el contador a 8\n",
      "Proceso 3144 incrementó el contador a 9\n",
      "Proceso 3143 incrementó el contador a 10\n",
      "\n",
      "Valor final esperado: 10\n",
      "Valor final real: 10\n"
     ]
    }
   ],
   "source": [
    "# Mismo proceso de antes\n",
    "init_counter()\n",
    "hilos = 10  # Número de procesos en paralelo\n",
    "\n",
    "with ProcessPoolExecutor(max_workers=hilos) as executor:\n",
    "    futures = [executor.submit(increment_counter_with_lock) for _ in range(hilos)]\n",
    "\n",
    "# Esperamos que todos los hilos terminen\n",
    "for future in futures:\n",
    "    future.result()\n",
    "\n",
    "# Mostramos el valor final del contador\n",
    "final_value = read_counter()\n",
    "print(f\"\\nValor final esperado: {hilos}\")\n",
    "print(f\"Valor final real: {final_value}\")"
   ]
  },
  {
   "cell_type": "markdown",
   "id": "6cf729da-c8df-4205-b8a4-693935b09328",
   "metadata": {},
   "source": [
    "### Implementación paralela del MergeSort\n",
    "\n",
    "Implementar la ordenación por mergesort de una lista aprovechando el paralelismo.\n",
    "\n",
    "¿Cómo dividiríamos el problema para poder atajarlo de manera paralela?"
   ]
  },
  {
   "cell_type": "markdown",
   "id": "3932dff3-6fd8-4b35-8863-f96194876445",
   "metadata": {},
   "source": [
    "Para ello debemos:\n",
    "* Separar en varias sub-listas la lista inicial.\n",
    "* Lanzar la ordenación de cada una de estas sub-listas de manera palalela.\n",
    "* Una vez tenemos las sub-listas ordenadas, juntarlas en una sola."
   ]
  },
  {
   "cell_type": "code",
   "execution_count": 42,
   "id": "f276ae2c-fb91-4621-90d7-80c19ea97684",
   "metadata": {},
   "outputs": [],
   "source": [
    "import random\n",
    "\n",
    "def n_aleatorios(n: int) -> [int]:\n",
    "    \"\"\"\n",
    "    Devuelve una lista de n enteros aleatorios\n",
    "    \"\"\"\n",
    "    random_list = [random.randint(0, 10**6) for _ in range(n)]\n",
    "    return random_list"
   ]
  },
  {
   "cell_type": "code",
   "execution_count": 43,
   "id": "51f28997-683c-4f01-8c64-a636213a53d9",
   "metadata": {},
   "outputs": [
    {
     "data": {
      "text/plain": [
       "[556699, 679124, 977373, 773182, 810801]"
      ]
     },
     "execution_count": 43,
     "metadata": {},
     "output_type": "execute_result"
    }
   ],
   "source": [
    "n_aleatorios(5)"
   ]
  },
  {
   "cell_type": "code",
   "execution_count": 44,
   "id": "41218fbc-07d4-4068-b167-60f7c75285e2",
   "metadata": {},
   "outputs": [],
   "source": [
    "def merge(left, right):\n",
    "    \"\"\"Función para fusionar dos listas ordenadas.\"\"\"\n",
    "    result = []\n",
    "    i = j = 0\n",
    "\n",
    "    while i < len(left) and j < len(right):\n",
    "        if left[i] < right[j]:\n",
    "            result.append(left[i])\n",
    "            i += 1\n",
    "        else:\n",
    "            result.append(right[j])\n",
    "            j += 1\n",
    "\n",
    "    result.extend(left[i:])\n",
    "    result.extend(right[j:])\n",
    "    return result\n",
    "\n",
    "def merge_sort(arr):\n",
    "    \"\"\"Implementación normal de Merge Sort.\"\"\"\n",
    "    if len(arr) <= 1:\n",
    "        return arr\n",
    "\n",
    "    mid = len(arr) // 2\n",
    "    left = merge_sort(arr[:mid])\n",
    "    right = merge_sort(arr[mid:])\n",
    "\n",
    "    return merge(left, right)"
   ]
  },
  {
   "cell_type": "code",
   "execution_count": 45,
   "id": "709d3f18-88dc-49f2-99f4-45432a3387b6",
   "metadata": {},
   "outputs": [
    {
     "name": "stdout",
     "output_type": "stream",
     "text": [
      "[637745, 227603, 142316, 147441, 311363, 985737, 572384, 533266, 333703, 79339, 518169, 319170]\n",
      "[79339, 142316, 147441, 227603, 311363, 319170, 333703, 518169, 533266, 572384, 637745, 985737]\n"
     ]
    }
   ],
   "source": [
    "listarandom = n_aleatorios(12)\n",
    "print(listarandom)\n",
    "print(merge_sort(listarandom))"
   ]
  },
  {
   "cell_type": "markdown",
   "id": "67b8f8e3-20fc-455b-997d-bcc6777773dc",
   "metadata": {},
   "source": [
    "### Mergesort en paralelo"
   ]
  },
  {
   "cell_type": "code",
   "execution_count": 46,
   "id": "9cef3689-2ef0-4c99-b041-116863a738ca",
   "metadata": {},
   "outputs": [],
   "source": [
    "def mergesort_paralelo(milista, hilos=8):\n",
    "    \"\"\"\n",
    "    Lanzar varios mergesort con las sublistas\n",
    "    y luego juntarlo todo en una sola\n",
    "    \"\"\"\n",
    "    if len(milista) <= 1:\n",
    "        return milista\n",
    "\n",
    "    # Dividir la lista en partes iguales\n",
    "    chunk_size = len(milista) // hilos\n",
    "    sublists = [milista[i * chunk_size:(i + 1) * chunk_size] for i in range(hilos)]\n",
    "\n",
    "    # El último trozo puede ser más grande si no es exactamente divisible\n",
    "    sublists[-1].extend(milista[hilos * chunk_size:])\n",
    "\n",
    "    # Lanzar n mergesorts\n",
    "    with ProcessPoolExecutor(max_workers=hilos) as executor:\n",
    "        sorted_sublists = list(executor.map(merge_sort, sublists))\n",
    "\n",
    "    # Mezclar los resultados en serie\n",
    "    while len(sorted_sublists) > 1:\n",
    "        new_sorted_sublists = []\n",
    "        for i in range(0, len(sorted_sublists), 2):\n",
    "            if i + 1 < len(sorted_sublists):\n",
    "                new_sorted_sublists.append(merge(sorted_sublists[i], sorted_sublists[i + 1]))\n",
    "            else:\n",
    "                new_sorted_sublists.append(sorted_sublists[i])\n",
    "        sorted_sublists = new_sorted_sublists\n",
    "\n",
    "    return sorted_sublists[0]"
   ]
  },
  {
   "cell_type": "code",
   "execution_count": 47,
   "id": "09d42c4a-b21c-4fde-977d-f94463d74c10",
   "metadata": {},
   "outputs": [
    {
     "name": "stdout",
     "output_type": "stream",
     "text": [
      "[79339, 142316, 147441, 227603, 311363, 319170, 333703, 518169, 533266, 572384, 637745, 985737]\n"
     ]
    }
   ],
   "source": [
    "print(mergesort_paralelo(listarandom, hilos=4))"
   ]
  },
  {
   "cell_type": "code",
   "execution_count": 48,
   "id": "6103c087-05f3-4c7d-809d-199e8f869e96",
   "metadata": {},
   "outputs": [],
   "source": [
    "def test_merge(listarandom):\n",
    "    t_inicio = time.time()\n",
    "    ordenada = merge_sort(listarandom)\n",
    "    t_fin = time.time()\n",
    "    \n",
    "    print(f\"Ordenado {len(ordenada)} elementos en {t_fin-t_inicio} segundos.\")"
   ]
  },
  {
   "cell_type": "code",
   "execution_count": 50,
   "id": "b779d02a-31ae-4f20-b25f-2c917f2bb6ce",
   "metadata": {},
   "outputs": [],
   "source": [
    "def test_merge_paralelo(listarandom, hilos=8):\n",
    "    t_inicio = time.time()\n",
    "    ordenada = mergesort_paralelo(listarandom, hilos)\n",
    "    t_fin = time.time()\n",
    "    \n",
    "    print(f\"Ordenado {len(ordenada)} elementos en {t_fin-t_inicio} segundos con {hilos} hilos.\")"
   ]
  },
  {
   "cell_type": "code",
   "execution_count": 51,
   "id": "df1866eb-ed07-4e3e-8d15-2abb3b6e9135",
   "metadata": {},
   "outputs": [],
   "source": [
    "listarandom2 = n_aleatorios(10000000)"
   ]
  },
  {
   "cell_type": "code",
   "execution_count": 52,
   "id": "83abb4de-4c2b-4941-9862-30e3e9063e51",
   "metadata": {},
   "outputs": [
    {
     "data": {
      "text/plain": [
       "10000000"
      ]
     },
     "execution_count": 52,
     "metadata": {},
     "output_type": "execute_result"
    }
   ],
   "source": [
    "len(listarandom2)"
   ]
  },
  {
   "cell_type": "code",
   "execution_count": 53,
   "id": "f73f7827-e071-42a4-80ba-c60741a56a96",
   "metadata": {},
   "outputs": [
    {
     "name": "stdout",
     "output_type": "stream",
     "text": [
      "Ordenado 12 elementos en 1.52587890625e-05 segundos.\n",
      "Ordenado 12 elementos en 0.05152297019958496 segundos con 8 hilos.\n"
     ]
    }
   ],
   "source": [
    "test_merge(listarandom)\n",
    "test_merge_paralelo(listarandom)"
   ]
  },
  {
   "cell_type": "code",
   "execution_count": 54,
   "id": "99813cc8-e8f0-41ca-ad93-707bb567d278",
   "metadata": {},
   "outputs": [
    {
     "data": {
      "text/plain": [
       "30.4"
      ]
     },
     "execution_count": 54,
     "metadata": {},
     "output_type": "execute_result"
    }
   ],
   "source": [
    "1.52/0.05"
   ]
  },
  {
   "cell_type": "code",
   "execution_count": null,
   "id": "6a9080f9-1eda-4b00-9e8d-86bc694c3934",
   "metadata": {},
   "outputs": [],
   "source": []
  }
 ],
 "metadata": {
  "kernelspec": {
   "display_name": "Python 3 (ipykernel)",
   "language": "python",
   "name": "python3"
  },
  "language_info": {
   "codemirror_mode": {
    "name": "ipython",
    "version": 3
   },
   "file_extension": ".py",
   "mimetype": "text/x-python",
   "name": "python",
   "nbconvert_exporter": "python",
   "pygments_lexer": "ipython3",
   "version": "3.8.10"
  }
 },
 "nbformat": 4,
 "nbformat_minor": 5
}
