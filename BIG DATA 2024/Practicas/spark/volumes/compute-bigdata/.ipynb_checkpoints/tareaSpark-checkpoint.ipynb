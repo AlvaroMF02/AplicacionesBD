{
 "cells": [
  {
   "cell_type": "code",
   "execution_count": 23,
   "id": "fe54665a-286b-45d7-8c08-4e3aa124f069",
   "metadata": {},
   "outputs": [],
   "source": [
    "from pyspark.sql import SparkSession\n",
    "from pyspark.sql import functions as F"
   ]
  },
  {
   "cell_type": "code",
   "execution_count": 24,
   "id": "c8aeda29-bcc3-415e-b2db-f29da09d2286",
   "metadata": {},
   "outputs": [
    {
     "name": "stdout",
     "output_type": "stream",
     "text": [
      "3.5.0\n"
     ]
    }
   ],
   "source": [
    "# Crear una sesión de Spark\n",
    "spark = SparkSession.builder.appName(\"Barometro\").getOrCreate()\n",
    "# Prueba:\n",
    "# Mostrar la versión de Spark\n",
    "print(spark.version)"
   ]
  },
  {
   "cell_type": "code",
   "execution_count": 32,
   "id": "5192a166-ab6e-4539-a1b3-535e5d70f604",
   "metadata": {},
   "outputs": [],
   "source": [
    "# Leer un csv\n",
    "df = spark.read.option(\"delimiter\",\";\").csv(\"Barometro_Andaluz_Diciembre_2024.csv\", header=True, inferSchema=True)"
   ]
  },
  {
   "cell_type": "code",
   "execution_count": 34,
   "id": "26a75585-93c1-41be-b16b-80b9eec2e534",
   "metadata": {},
   "outputs": [
    {
     "name": "stdout",
     "output_type": "stream",
     "text": [
      "3600\n",
      "root\n",
      " |-- ID: integer (nullable = true)\n",
      " |-- PESO: string (nullable = true)\n",
      " |-- C1: integer (nullable = true)\n",
      " |-- C2: integer (nullable = true)\n",
      " |-- C3: integer (nullable = true)\n",
      " |-- C4: integer (nullable = true)\n",
      " |-- C4_1: integer (nullable = true)\n",
      " |-- C6: integer (nullable = true)\n",
      " |-- P1001_1: integer (nullable = true)\n",
      " |-- P1001_2: integer (nullable = true)\n",
      " |-- PCAV1220231: integer (nullable = true)\n",
      " |-- P1002: string (nullable = true)\n",
      " |-- P1005_1: string (nullable = true)\n",
      " |-- P1003: string (nullable = true)\n",
      " |-- P1005_2: string (nullable = true)\n",
      " |-- P1004: string (nullable = true)\n",
      " |-- P1005_3: string (nullable = true)\n",
      " |-- P1012: integer (nullable = true)\n",
      " |-- P1013: integer (nullable = true)\n",
      " |-- P1013_1: integer (nullable = true)\n",
      " |-- P1014: integer (nullable = true)\n",
      " |-- P1015: integer (nullable = true)\n",
      " |-- P1016: integer (nullable = true)\n",
      " |-- BS58000: integer (nullable = true)\n",
      " |-- BS58000B: integer (nullable = true)\n",
      " |-- BS58000C: integer (nullable = true)\n",
      " |-- P11017: integer (nullable = true)\n",
      " |-- PBARDIC24_1_1: integer (nullable = true)\n",
      " |-- PBARDIC24_1_2: integer (nullable = true)\n",
      " |-- PBARDIC24_1_3: integer (nullable = true)\n",
      " |-- PBARDIC24_1_4: integer (nullable = true)\n",
      " |-- PBARDIC24_1_5: integer (nullable = true)\n",
      " |-- PBARDIC24_1_6: integer (nullable = true)\n",
      " |-- PBARDIC24_1_7: integer (nullable = true)\n",
      " |-- PBARDIC24_1_8: integer (nullable = true)\n",
      " |-- PBARDIC24_1_V2_1: integer (nullable = true)\n",
      " |-- PBARDIC24_1_V2_2: integer (nullable = true)\n",
      " |-- PBARDIC24_1_V2_3: integer (nullable = true)\n",
      " |-- PBARDIC24_1_V2_4: integer (nullable = true)\n",
      " |-- PBARDIC24_1_V2_5: integer (nullable = true)\n",
      " |-- PBARDIC24_1_V2_6: integer (nullable = true)\n",
      " |-- PBARDIC24_2: integer (nullable = true)\n",
      " |-- PBARDIC24_3: integer (nullable = true)\n",
      " |-- PBARDIC24_4_1: string (nullable = true)\n",
      " |-- PBARDIC24_4_2: string (nullable = true)\n",
      " |-- PBARDIC24_4_3: string (nullable = true)\n",
      " |-- PBARDIC24_4_4: string (nullable = true)\n",
      " |-- PBARDIC24_4_5: string (nullable = true)\n",
      " |-- PBARDIC24_4_6: string (nullable = true)\n",
      " |-- PBARDIC24_4_7: string (nullable = true)\n",
      " |-- PBARDIC24_4_8: string (nullable = true)\n",
      " |-- PBARDIC24_4_9: string (nullable = true)\n",
      " |-- PBARDIC24_5: integer (nullable = true)\n",
      " |-- PBARDIC24_6: integer (nullable = true)\n",
      " |-- PBARDIC24_7: integer (nullable = true)\n",
      " |-- PBARDIC24_8_1: integer (nullable = true)\n",
      " |-- PBARDIC24_8_2: integer (nullable = true)\n",
      " |-- PBARDIC24_8_3: integer (nullable = true)\n",
      " |-- PBARDIC24_8_4: integer (nullable = true)\n",
      " |-- PBARDIC24_8_5: integer (nullable = true)\n",
      " |-- PBARDIC24_8_6: integer (nullable = true)\n",
      " |-- PBARDIC24_8_98: integer (nullable = true)\n",
      " |-- PBARDIC24_9: integer (nullable = true)\n",
      " |-- PBARDIC24_10: integer (nullable = true)\n",
      " |-- PBARDIC24_11_1: integer (nullable = true)\n",
      " |-- PBARDIC24_11_2: integer (nullable = true)\n",
      " |-- PBARDIC24_11_3: integer (nullable = true)\n",
      " |-- PBARDIC24_11_4: integer (nullable = true)\n",
      " |-- P2003: integer (nullable = true)\n",
      " |-- BVPCE100000: integer (nullable = true)\n",
      " |-- P2002_CONOC_1: integer (nullable = true)\n",
      " |-- P2002_VAL_1: string (nullable = true)\n",
      " |-- P2002_CONOC_2: integer (nullable = true)\n",
      " |-- P2002_VAL_2: string (nullable = true)\n",
      " |-- P2002_CONOC_3: integer (nullable = true)\n",
      " |-- P2002_VAL_3: string (nullable = true)\n",
      " |-- P2002_CONOC_4: integer (nullable = true)\n",
      " |-- P2002_VAL_4: string (nullable = true)\n",
      " |-- P2002_CONOC_8: integer (nullable = true)\n",
      " |-- P2002_VAL_8: string (nullable = true)\n",
      " |-- P1018: integer (nullable = true)\n",
      " |-- P200110: integer (nullable = true)\n",
      " |-- P2005: integer (nullable = true)\n",
      " |-- P2007: integer (nullable = true)\n",
      " |-- P2008A: integer (nullable = true)\n",
      " |-- P2105A: integer (nullable = true)\n",
      " |-- BCHVC66000_1: integer (nullable = true)\n",
      " |-- BCHVC66000_2: integer (nullable = true)\n",
      " |-- BCHVC66000_3: integer (nullable = true)\n",
      " |-- BCHVC66000_4: integer (nullable = true)\n",
      " |-- BCHVC66000_5: integer (nullable = true)\n",
      " |-- BCHVC66000_6: integer (nullable = true)\n",
      " |-- BCHVC66000_7: integer (nullable = true)\n",
      " |-- BCHVC66000_8: integer (nullable = true)\n",
      " |-- BCHVC66000_9: integer (nullable = true)\n",
      " |-- BCHVC66000_10: integer (nullable = true)\n",
      " |-- BCHVC66000_11: integer (nullable = true)\n",
      " |-- BCHVC66000_12: integer (nullable = true)\n",
      " |-- BCHVC66000_15: integer (nullable = true)\n",
      " |-- BCHVC66000_16: integer (nullable = true)\n",
      " |-- BCHVC66000_13: integer (nullable = true)\n",
      " |-- BCHVC66000_98: integer (nullable = true)\n",
      " |-- BCHVC66000_99: integer (nullable = true)\n",
      " |-- BCHVC67000: integer (nullable = true)\n",
      " |-- BCHVC68000: integer (nullable = true)\n",
      " |-- P221009: integer (nullable = true)\n",
      " |-- P2009: integer (nullable = true)\n",
      " |-- P2010: integer (nullable = true)\n",
      " |-- P2012: integer (nullable = true)\n",
      " |-- P2013: integer (nullable = true)\n",
      " |-- P2014: integer (nullable = true)\n",
      " |-- P2015: string (nullable = true)\n",
      "\n"
     ]
    }
   ],
   "source": [
    "# Contar cuantas columnas hay\n",
    "print(df.count())\n",
    "df.printSchema()"
   ]
  },
  {
   "cell_type": "code",
   "execution_count": 42,
   "id": "1ebf4693-9c3c-45f5-a0cb-70ddc6562261",
   "metadata": {},
   "outputs": [
    {
     "name": "stdout",
     "output_type": "stream",
     "text": [
      "8\n",
      "+---+\n",
      "| c1|\n",
      "+---+\n",
      "| 41|\n",
      "|  4|\n",
      "| 23|\n",
      "| 29|\n",
      "| 21|\n",
      "| 11|\n",
      "| 14|\n",
      "| 18|\n",
      "+---+\n",
      "\n"
     ]
    }
   ],
   "source": [
    "# Contar cuantas provincias hay\n",
    "print(len(df.select(\"c1\").distinct().collect()))\n",
    "df.select(\"c1\").distinct().show()"
   ]
  },
  {
   "cell_type": "code",
   "execution_count": 52,
   "id": "93332828-7b5d-47b9-a1d2-b128f6fda38f",
   "metadata": {},
   "outputs": [
    {
     "name": "stdout",
     "output_type": "stream",
     "text": [
      "+---+-----+\n",
      "| c1|count|\n",
      "+---+-----+\n",
      "| 41|  652|\n",
      "|  4|  372|\n",
      "| 23|  347|\n",
      "| 29|  609|\n",
      "| 21|  325|\n",
      "| 11|  493|\n",
      "| 14|  383|\n",
      "| 18|  419|\n",
      "+---+-----+\n",
      "\n"
     ]
    }
   ],
   "source": [
    "# contar cuantas encuestas se hicieron por provincia\n",
    "df.groupBy(\"c1\").count().show() "
   ]
  },
  {
   "cell_type": "code",
   "execution_count": 53,
   "id": "075f3143-8813-47d5-b096-706b5634f6cc",
   "metadata": {},
   "outputs": [],
   "source": [
    "# Crear archivos parquet divididos por C1 (provincia)\n",
    "df.write.partitionBy(\"C1\").parquet(\"hdfs/pruebaParquet\", mode=\"overwrite\")"
   ]
  },
  {
   "cell_type": "code",
   "execution_count": 54,
   "id": "550dbc13-4290-43a7-b145-09a22f9c45bc",
   "metadata": {},
   "outputs": [
    {
     "name": "stdout",
     "output_type": "stream",
     "text": [
      "+---+-----+\n",
      "| c3|count|\n",
      "+---+-----+\n",
      "|  1| 1759|\n",
      "|  2| 1841|\n",
      "+---+-----+\n",
      "\n"
     ]
    }
   ],
   "source": [
    "# cuantos de los encuestados son hombres o mujeres\n",
    "df.groupBy(\"c3\").count().show() "
   ]
  },
  {
   "cell_type": "code",
   "execution_count": 65,
   "id": "89f7e325-f67e-48ca-8497-581a9ff46ac9",
   "metadata": {},
   "outputs": [
    {
     "name": "stdout",
     "output_type": "stream",
     "text": [
      "+---+-----+\n",
      "| c4|count|\n",
      "+---+-----+\n",
      "| 18|   20|\n",
      "| 19|   20|\n",
      "| 20|   42|\n",
      "| 21|   30|\n",
      "| 22|   75|\n",
      "| 23|   81|\n",
      "| 24|   79|\n",
      "| 25|   54|\n",
      "| 26|   45|\n",
      "| 27|   60|\n",
      "| 28|   67|\n",
      "| 29|   64|\n",
      "| 30|   54|\n",
      "| 31|   38|\n",
      "| 32|   51|\n",
      "| 33|   43|\n",
      "| 34|   28|\n",
      "| 35|   72|\n",
      "| 36|   62|\n",
      "| 37|   60|\n",
      "+---+-----+\n",
      "only showing top 20 rows\n",
      "\n"
     ]
    }
   ],
   "source": [
    "# distribuir por edades\n",
    "df.groupBy(\"c4\").count().sort(\"c4\", ascending=True).show()"
   ]
  },
  {
   "cell_type": "code",
   "execution_count": 66,
   "id": "1e4ed492-2bd8-42b3-832a-22455def2332",
   "metadata": {},
   "outputs": [
    {
     "name": "stdout",
     "output_type": "stream",
     "text": [
      "+----+-----+\n",
      "|c4_1|count|\n",
      "+----+-----+\n",
      "|   1|  347|\n",
      "|   2|  504|\n",
      "|   3|  623|\n",
      "|   4|  700|\n",
      "|   5|  617|\n",
      "|   6|  429|\n",
      "|   7|  380|\n",
      "+----+-----+\n",
      "\n"
     ]
    }
   ],
   "source": [
    "# agrupar por grupos de edades\n",
    "df.groupBy(\"c4_1\").count().sort(\"c4_1\", ascending=True).show()"
   ]
  },
  {
   "cell_type": "code",
   "execution_count": 70,
   "id": "8c263856-e46c-47fd-95cc-67dfb1254a46",
   "metadata": {},
   "outputs": [],
   "source": [
    "dfNombres = spark.read.option(\"delimiter\",\";\").csv(\"barometro.csv\", header=True, inferSchema=True)"
   ]
  },
  {
   "cell_type": "code",
   "execution_count": null,
   "id": "294531c6-db87-453a-a861-de0d5826a2a3",
   "metadata": {},
   "outputs": [],
   "source": [
    "# agrupar por grupos de edades (con nombres)\n",
    "dfNombres.groupBy(\"c4_1\").count().sort(\"c4_1\", ascending=True).show()"
   ]
  }
 ],
 "metadata": {
  "kernelspec": {
   "display_name": "Python 3 (ipykernel)",
   "language": "python",
   "name": "python3"
  },
  "language_info": {
   "codemirror_mode": {
    "name": "ipython",
    "version": 3
   },
   "file_extension": ".py",
   "mimetype": "text/x-python",
   "name": "python",
   "nbconvert_exporter": "python",
   "pygments_lexer": "ipython3",
   "version": "3.11.6"
  }
 },
 "nbformat": 4,
 "nbformat_minor": 5
}
