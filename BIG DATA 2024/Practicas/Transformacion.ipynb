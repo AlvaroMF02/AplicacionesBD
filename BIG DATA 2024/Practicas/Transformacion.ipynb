{
 "cells": [
  {
   "cell_type": "code",
   "execution_count": 1,
   "id": "f7b0073c-2446-4271-bb75-6156920bf220",
   "metadata": {},
   "outputs": [],
   "source": [
    "import pandas as pd"
   ]
  },
  {
   "cell_type": "markdown",
   "id": "9ab2ef4d-7707-4f36-ad4c-0e01f81b98ee",
   "metadata": {},
   "source": [
    "# Limpieza de datos\n",
    "\n",
    "Dataset: https://www.datablist.com/learn/csv/download-sample-csv-files (data 1000 modificado)"
   ]
  },
  {
   "cell_type": "code",
   "execution_count": 2,
   "id": "9dfc2b77-d8cd-4640-bd81-d145473de1ca",
   "metadata": {
    "scrolled": true
   },
   "outputs": [
    {
     "name": "stdout",
     "output_type": "stream",
     "text": [
      "Valores nulos antes de limpiar:\n",
      " Index                 0\n",
      "Customer Id          65\n",
      "First Name           81\n",
      "Last Name            65\n",
      "Company              81\n",
      "City                 59\n",
      "Country              63\n",
      "Phone 1              63\n",
      "Phone 2              64\n",
      "Email                81\n",
      "Subscription Date    61\n",
      "Website              78\n",
      "dtype: int64\n"
     ]
    }
   ],
   "source": [
    "# Cargar dataset de ventas de supermercado\n",
    "\n",
    "csvpath = \"data/customers.csv\"\n",
    "df = pd.read_csv(csvpath)\n",
    "\n",
    "# Verificar valores nulos\n",
    "print(\"Valores nulos antes de limpiar:\\n\", df.isnull().sum())\n"
   ]
  },
  {
   "cell_type": "code",
   "execution_count": 3,
   "id": "0d8eeb20-1705-473e-bcb5-ad4e40925134",
   "metadata": {},
   "outputs": [],
   "source": [
    "# Eliminar las columnas vacías\n",
    "df_clean = df.dropna()"
   ]
  },
  {
   "cell_type": "code",
   "execution_count": 4,
   "id": "4efc66aa-1d6b-4f1c-b403-a43500cf3b06",
   "metadata": {},
   "outputs": [
    {
     "name": "stdout",
     "output_type": "stream",
     "text": [
      "Valores nulos despues de limpiar:\n",
      " Index                0\n",
      "Customer Id          0\n",
      "First Name           0\n",
      "Last Name            0\n",
      "Company              0\n",
      "City                 0\n",
      "Country              0\n",
      "Phone 1              0\n",
      "Phone 2              0\n",
      "Email                0\n",
      "Subscription Date    0\n",
      "Website              0\n",
      "dtype: int64\n"
     ]
    }
   ],
   "source": [
    "# Despues de limpiar\n",
    "# Verificar valores nulos\n",
    "print(\"Valores nulos despues de limpiar:\\n\", df_clean.isnull().sum())"
   ]
  },
  {
   "cell_type": "code",
   "execution_count": 5,
   "id": "d7aab6e4-09da-4937-8e24-37f87d309d8f",
   "metadata": {},
   "outputs": [],
   "source": [
    "# Guardar en un nuevo CSV limpio\n",
    "df_clean.to_csv(\"customers_clean.csv\", index=False)"
   ]
  },
  {
   "cell_type": "code",
   "execution_count": 6,
   "id": "b7e316eb-6571-4bb7-819c-8f860ba99084",
   "metadata": {},
   "outputs": [
    {
     "name": "stdout",
     "output_type": "stream",
     "text": [
      "(1300, 12)\n",
      "(702, 12)\n"
     ]
    }
   ],
   "source": [
    "print(df.shape)\n",
    "print(df_clean.shape)"
   ]
  },
  {
   "cell_type": "code",
   "execution_count": 7,
   "id": "784a8798-7325-46c0-b76e-cad57772a771",
   "metadata": {},
   "outputs": [
    {
     "name": "stdout",
     "output_type": "stream",
     "text": [
      "\n",
      "Datos después de la limpieza:\n",
      "    Index      Customer Id First Name Last Name                     Company  \\\n",
      "0      1  dE014d010c7ab0c     Andrew   Goodman               Stewart-Flynn   \n",
      "3      4  3b3Aa4aCc68f3Be   Fernando      Ford                Moss-Maxwell   \n",
      "4      5  D60df62ad2ae41E       Kara     Woods             Mccarthy-Kelley   \n",
      "5      6  8aaa5d0CE9ee311    Marissa    Gamble             Cherry and Sons   \n",
      "7      8  DC94CCd993D311b     Lauren     Villa  French, Travis and Hensley   \n",
      "\n",
      "               City Country                Phone 1              Phone 2  \\\n",
      "0       Rowlandberg   Macao      846-790-4623x4715  (422)787-2331x71127   \n",
      "3        Leeborough   Macao          (047)752-3122    048.779.5035x9122   \n",
      "4  Port Jacksonland   Nepal  +1-360-693-4419x19272         163-627-2565   \n",
      "5         Webertown   Sudan  001-645-334-5514x0786        (751)980-3163   \n",
      "7       New Yolanda    Fiji       081.226.1797x647     186.540.9690x605   \n",
      "\n",
      "                              Email Subscription Date                  Website  \n",
      "0     marieyates@gomez-spencer.info        2021-07-26     http://www.shea.biz/  \n",
      "3               adeleon@hubbard.org        2020-11-29   http://www.hebert.com/  \n",
      "4             jesus90@roberson.info        2022-04-22      http://merritt.com/  \n",
      "5          katieallison@leonard.com        2021-11-17  http://www.kaufman.org/  \n",
      "7  colehumphrey@austin-caldwell.com        2020-08-14    https://www.kerr.com/  \n"
     ]
    }
   ],
   "source": [
    "print(\"\\nDatos después de la limpieza:\\n\", df_clean.head())"
   ]
  },
  {
   "cell_type": "markdown",
   "id": "b030f83b-00f4-4556-b989-7b2804167113",
   "metadata": {},
   "source": [
    "# Eliminado filas duplicadas"
   ]
  },
  {
   "cell_type": "code",
   "execution_count": 8,
   "id": "d1869d47-c712-4e36-854d-7b4fdf514732",
   "metadata": {},
   "outputs": [
    {
     "name": "stdout",
     "output_type": "stream",
     "text": [
      "Duplicados antes de limpiar: 340\n",
      "Valores nulos antes de limpiar:\n",
      " Index                 0\n",
      "Customer Id          65\n",
      "First Name           81\n",
      "Last Name            65\n",
      "Company              81\n",
      "City                 59\n",
      "Country              63\n",
      "Phone 1              63\n",
      "Phone 2              64\n",
      "Email                81\n",
      "Subscription Date    61\n",
      "Website              78\n",
      "dtype: int64\n"
     ]
    }
   ],
   "source": [
    "# Cargar dataset de ventas de supermercado\n",
    "\n",
    "csvpath = \"data/customers.csv\"\n",
    "df = pd.read_csv(csvpath)\n",
    "\n",
    "# Verificar valores nulos\n",
    "# Verificar valores nulos y duplicados antes de limpiar\n",
    "print(\"Duplicados antes de limpiar:\", df.duplicated(subset=['Customer Id']).sum())\n",
    "print(\"Valores nulos antes de limpiar:\\n\", df.isnull().sum())\n",
    "\n"
   ]
  },
  {
   "cell_type": "code",
   "execution_count": 9,
   "id": "e5944ce0-8450-4f23-9a55-61b27dd65f05",
   "metadata": {},
   "outputs": [],
   "source": [
    "# Eliminar duplicados basados en la columna \"Customer Id\", manteniendo la primera aparición\n",
    "df_clean = df.drop_duplicates(subset=['Customer Id'], keep='first')"
   ]
  },
  {
   "cell_type": "code",
   "execution_count": 10,
   "id": "543c586d-6cf0-40b8-b0e7-852c1e855796",
   "metadata": {},
   "outputs": [
    {
     "name": "stdout",
     "output_type": "stream",
     "text": [
      "Duplicados después de limpiar: 0\n",
      "Valores nulos después de limpiar:\n",
      " Index                 0\n",
      "Customer Id           1\n",
      "First Name           61\n",
      "Last Name            53\n",
      "Company              57\n",
      "City                 41\n",
      "Country              49\n",
      "Phone 1              51\n",
      "Phone 2              54\n",
      "Email                61\n",
      "Subscription Date    46\n",
      "Website              59\n",
      "dtype: int64\n"
     ]
    }
   ],
   "source": [
    "# Verificar nuevamente\n",
    "print(\"Duplicados después de limpiar:\", df_clean.duplicated(subset=['Customer Id']).sum())\n",
    "print(\"Valores nulos después de limpiar:\\n\", df_clean.isnull().sum())"
   ]
  },
  {
   "cell_type": "code",
   "execution_count": 11,
   "id": "d7473e66-3e44-4873-9d0d-d58e2f4703dd",
   "metadata": {},
   "outputs": [
    {
     "name": "stdout",
     "output_type": "stream",
     "text": [
      "(1300, 12)\n",
      "(960, 12)\n",
      "\n",
      "Primeras filas del DataFrame limpio:\n",
      "    Index      Customer Id First Name Last Name                      Company  \\\n",
      "0      1  dE014d010c7ab0c     Andrew   Goodman                Stewart-Flynn   \n",
      "1      2  2B54172c8b65eC3      Alvin       NaN  Terry, Proctor and Lawrence   \n",
      "2      3  d794Dd48988d2ac      Jenna   Harding                 Bailey Group   \n",
      "3      4  3b3Aa4aCc68f3Be   Fernando      Ford                 Moss-Maxwell   \n",
      "4      5  D60df62ad2ae41E       Kara     Woods              Mccarthy-Kelley   \n",
      "\n",
      "               City           Country                Phone 1  \\\n",
      "0       Rowlandberg             Macao      846-790-4623x4715   \n",
      "1          Bethside  Papua New Guinea     124-597-8652x05682   \n",
      "2      Moniquemouth             China     (335)987-3085x3780   \n",
      "3        Leeborough             Macao          (047)752-3122   \n",
      "4  Port Jacksonland             Nepal  +1-360-693-4419x19272   \n",
      "\n",
      "               Phone 2                          Email Subscription Date  \\\n",
      "0  (422)787-2331x71127  marieyates@gomez-spencer.info        2021-07-26   \n",
      "1    321.441.0588x6218          alexandra86@mccoy.com        2021-06-24   \n",
      "2                  NaN        justincurtis@pierce.org        2020-04-05   \n",
      "3    048.779.5035x9122            adeleon@hubbard.org        2020-11-29   \n",
      "4         163-627-2565          jesus90@roberson.info        2022-04-22   \n",
      "\n",
      "                       Website  \n",
      "0         http://www.shea.biz/  \n",
      "1    http://www.pena-cole.com/  \n",
      "2  http://www.booth-reese.biz/  \n",
      "3       http://www.hebert.com/  \n",
      "4          http://merritt.com/  \n"
     ]
    }
   ],
   "source": [
    "# Guardar el DataFrame limpio en un nuevo archivo CSV\n",
    "df_clean.to_csv(\"customers_cleaned2.csv\", index=False)\n",
    "\n",
    "print(df.shape)\n",
    "print(df_clean.shape)\n",
    "print(\"\\nPrimeras filas del DataFrame limpio:\\n\", df_clean.head())"
   ]
  },
  {
   "cell_type": "markdown",
   "id": "cc32c878-c60c-41ca-a7ab-ae22f3f8d146",
   "metadata": {},
   "source": [
    "# Reconstruir filas incompletas\n",
    "\n",
    "Algunas filas incompletas se podrían reconstruir con los datos que tenemos de filas repetidas\n",
    "\n",
    "* Cargar el dataset (de nuevo)\n",
    "* Ordenar los datos por \"Customer Id\" (para aseguramos que los duplicados estén juntos)\n",
    "* Usa groupby(\"Customer Id\") para agrupar por cliente. Podemos usar las siguientes funciones\n",
    "    + lambda: Permite definir funciones anónimas en python.\n",
    "    + apply: Aplica una función a una fila del dataframe.\n",
    "    + ffill() (forward fill): Rellena valores nulos hacia adelante dentro de cada grupo.\n",
    "    + bfill() (backward fill): Rellena valores nulos hacia atrás dentro de cada grupo.\n",
    "* Eliminar duplicados restantes con drop_duplicates(subset=['Customer Id']) después de la reconstrucción.\n",
    "* Verificar que no queden valores nulos.\n",
    "* Guarda el dataset reconstruido en un archivo CSV."
   ]
  },
  {
   "cell_type": "code",
   "execution_count": 12,
   "id": "4dac1486-dee6-4337-91ec-7886b2bd6cff",
   "metadata": {},
   "outputs": [
    {
     "name": "stdout",
     "output_type": "stream",
     "text": [
      "Duplicados antes de limpiar: 340\n",
      "Valores nulos antes de limpiar:\n",
      " Index                 0\n",
      "Customer Id          65\n",
      "First Name           81\n",
      "Last Name            65\n",
      "Company              81\n",
      "City                 59\n",
      "Country              63\n",
      "Phone 1              63\n",
      "Phone 2              64\n",
      "Email                81\n",
      "Subscription Date    61\n",
      "Website              78\n",
      "dtype: int64\n"
     ]
    }
   ],
   "source": [
    "# Cargar dataset de ventas de supermercado\n",
    "\n",
    "csvpath = \"data/customers.csv\"\n",
    "df = pd.read_csv(csvpath)\n",
    "\n",
    "# Verificar valores nulos\n",
    "# Verificar valores nulos y duplicados antes de limpiar\n",
    "print(\"Duplicados antes de limpiar:\", df.duplicated(subset=['Customer Id']).sum())\n",
    "print(\"Valores nulos antes de limpiar:\\n\", df.isnull().sum())\n"
   ]
  },
  {
   "cell_type": "code",
   "execution_count": 13,
   "id": "27655a9e-c705-4ef3-8d19-31b2542c4aa4",
   "metadata": {},
   "outputs": [],
   "source": [
    "# Eliminar las filas sin Customer ID\n",
    "df = df.dropna(subset=['Customer Id'])"
   ]
  },
  {
   "cell_type": "code",
   "execution_count": 14,
   "id": "829d2f32-5c46-44d1-887f-3102b15b8cea",
   "metadata": {},
   "outputs": [
    {
     "name": "stdout",
     "output_type": "stream",
     "text": [
      "Valores nulos antes de reconstrucción:\n",
      " Index                 0\n",
      "Customer Id           0\n",
      "First Name           75\n",
      "Last Name            61\n",
      "Company              76\n",
      "City                 57\n",
      "Country              62\n",
      "Phone 1              60\n",
      "Phone 2              64\n",
      "Email                79\n",
      "Subscription Date    60\n",
      "Website              72\n",
      "dtype: int64\n"
     ]
    }
   ],
   "source": [
    "# Verificar valores nulos antes de la limpieza\n",
    "print(\"Valores nulos antes de reconstrucción:\\n\", df.isnull().sum())\n",
    "\n",
    "# Ordenar los datos por 'Customer Id' para asegurar consistencia\n",
    "df.sort_values(by=['Customer Id'], inplace=True)\n",
    "\n"
   ]
  },
  {
   "cell_type": "markdown",
   "id": "a8c2ac49-ac78-4c94-9ef5-3e1de4a77834",
   "metadata": {},
   "source": [
    "### Funciones lambda en python\n",
    "\n",
    "Las funciones lambda son funciones anónimas en python. Es decir, funciones que declaramos en el momento en el que van a ser usadas.\n",
    "\n",
    "Recordad que en python se puede pasar una función como parámetro a otra función"
   ]
  },
  {
   "cell_type": "code",
   "execution_count": 15,
   "id": "8e620cec-058e-4cfe-ad03-055e32391697",
   "metadata": {},
   "outputs": [
    {
     "data": {
      "text/plain": [
       "<function __main__.<lambda>(x)>"
      ]
     },
     "execution_count": 15,
     "metadata": {},
     "output_type": "execute_result"
    }
   ],
   "source": [
    "lambda x: x+2"
   ]
  },
  {
   "cell_type": "code",
   "execution_count": 16,
   "id": "8230d8df-6f78-42ad-b30a-75769d5be4f8",
   "metadata": {},
   "outputs": [
    {
     "data": {
      "text/plain": [
       "6"
      ]
     },
     "execution_count": 16,
     "metadata": {},
     "output_type": "execute_result"
    }
   ],
   "source": [
    "(lambda x: x+2)(4)"
   ]
  },
  {
   "cell_type": "code",
   "execution_count": 17,
   "id": "a1a5ebcc-2e4b-4753-9910-7f581d6ed572",
   "metadata": {},
   "outputs": [
    {
     "data": {
      "text/plain": [
       "18"
      ]
     },
     "execution_count": 17,
     "metadata": {},
     "output_type": "execute_result"
    }
   ],
   "source": [
    "def aplicar_y_duplicar(fun, num):\n",
    "    return fun(num) * 2\n",
    "\n",
    "aplicar_y_duplicar(lambda x: x**2, 3)\n",
    "    "
   ]
  },
  {
   "cell_type": "markdown",
   "id": "9444864b-4e10-4229-ba7c-665be93f2ee3",
   "metadata": {},
   "source": [
    "### La función apply de lambda\n",
    "\n",
    "Toma una función y se la aplica a cada una de las columnas (o filas) del DataFrame o la Serie.\n",
    "\n",
    "Esta función puede ser una función lambda."
   ]
  },
  {
   "cell_type": "code",
   "execution_count": 18,
   "id": "ff7d38da-8625-46a8-a55f-1d18df86afb5",
   "metadata": {},
   "outputs": [
    {
     "data": {
      "text/plain": [
       "547         Leon\n",
       "703         D-le\n",
       "1071      Philip\n",
       "625        Kelli\n",
       "462     Jeremi-h\n",
       "          ...   \n",
       "1058      Jord-n\n",
       "352      Roberto\n",
       "452       M-rcus\n",
       "718      J-smine\n",
       "131        R-ven\n",
       "Name: First Name, Length: 1235, dtype: object"
      ]
     },
     "execution_count": 18,
     "metadata": {},
     "output_type": "execute_result"
    }
   ],
   "source": [
    "df['First Name'].apply(lambda x: str(x).replace('a', '-'))"
   ]
  },
  {
   "cell_type": "code",
   "execution_count": 19,
   "id": "b81d4562-05d0-41c6-81da-f195ffc9e4e9",
   "metadata": {},
   "outputs": [
    {
     "name": "stdout",
     "output_type": "stream",
     "text": [
      "\n",
      "Valores nulos después de la reconstrucción:\n",
      " Index                 0\n",
      "Customer Id           0\n",
      "First Name           43\n",
      "Last Name            35\n",
      "Company              40\n",
      "City                 27\n",
      "Country              37\n",
      "Phone 1              40\n",
      "Phone 2              37\n",
      "Email                47\n",
      "Subscription Date    28\n",
      "Website              44\n",
      "dtype: int64\n"
     ]
    }
   ],
   "source": [
    "# Reconstrucción de filas combinando duplicados usando 'Customer Id'\n",
    "df_clean = df.groupby('Customer Id').apply(lambda x: x.ffill().bfill()).drop_duplicates(subset=['Customer Id'])\n",
    "\n",
    "# Verificar valores nulos después de la reconstrucción\n",
    "print(\"\\nValores nulos después de la reconstrucción:\\n\", df_clean.isnull().sum())\n",
    "\n"
   ]
  },
  {
   "cell_type": "code",
   "execution_count": 20,
   "id": "62d24fad-fea0-496a-81fa-9ce11a90c265",
   "metadata": {},
   "outputs": [],
   "source": [
    "# Limpiar vacíos\n",
    "df_clean = df_clean.dropna()"
   ]
  },
  {
   "cell_type": "code",
   "execution_count": 21,
   "id": "14f0f2cc-458f-426b-863f-29d7d6f87c0c",
   "metadata": {},
   "outputs": [
    {
     "name": "stdout",
     "output_type": "stream",
     "text": [
      "\n",
      "Primeras filas del DataFrame reconstruido:\n",
      "                      Index      Customer Id First Name  Last Name  \\\n",
      "Customer Id                                                         \n",
      "0001fA39dA6D349 547    548  0001fA39dA6D349       Leon  Hendricks   \n",
      "002c9A213Db0067 703    704  002c9A213Db0067       Dale  Hendricks   \n",
      "01AEbCbD0cB7cCd 462    463  01AEbCbD0cB7cCd   Jeremiah        May   \n",
      "024a3d8Df5abFE9 73      74  024a3d8Df5abFE9    Diamond    Barnett   \n",
      "05CeeD0bFdFf4Ef 869    870  05CeeD0bFdFf4Ef     Kendra     Bishop   \n",
      "\n",
      "                                         Company               City  \\\n",
      "Customer Id                                                           \n",
      "0001fA39dA6D349 547                     Hood Inc     South Angelica   \n",
      "002c9A213Db0067 703                Levine-Larsen           Carrfurt   \n",
      "01AEbCbD0cB7cCd 462                   Larson LLC      Gabrielleland   \n",
      "024a3d8Df5abFE9 73   Walker, Andersen and Reeves  New Patriciamouth   \n",
      "05CeeD0bFdFf4Ef 869                  Vasquez PLC           Maysberg   \n",
      "\n",
      "                                 Country              Phone 1  \\\n",
      "Customer Id                                                     \n",
      "0001fA39dA6D349 547                 Chad  (279)741-0423x69516   \n",
      "002c9A213Db0067 703         Turkmenistan         975-431-3171   \n",
      "01AEbCbD0cB7cCd 462                Macao    (262)014-0619x128   \n",
      "024a3d8Df5abFE9 73   Trinidad and Tobago     713.178.8679x870   \n",
      "05CeeD0bFdFf4Ef 869              Armenia  +1-224-175-4327x551   \n",
      "\n",
      "                                   Phone 2                          Email  \\\n",
      "Customer Id                                                                 \n",
      "0001fA39dA6D349 547          (314)147-9581             drew59@strong.info   \n",
      "002c9A213Db0067 703           218-884-9029  robertamays@waters-joseph.com   \n",
      "01AEbCbD0cB7cCd 462  001-878-646-8559x7157        fgoodman@livingston.org   \n",
      "024a3d8Df5abFE9 73     (771)321-5148x65206          gibbsemily@fisher.biz   \n",
      "05CeeD0bFdFf4Ef 869  001-293-868-0149x1904                greg54@vang.com   \n",
      "\n",
      "                    Subscription Date                        Website  \n",
      "Customer Id                                                           \n",
      "0001fA39dA6D349 547        2020-07-31               http://owen.com/  \n",
      "002c9A213Db0067 703        2020-07-09             https://morse.com/  \n",
      "01AEbCbD0cB7cCd 462        2021-07-29           https://camacho.net/  \n",
      "024a3d8Df5abFE9 73         2022-01-04  https://mcdowell-compton.biz/  \n",
      "05CeeD0bFdFf4Ef 869        2021-07-13            https://vargas.com/  \n"
     ]
    }
   ],
   "source": [
    "# Guardar en un nuevo archivo CSV limpio\n",
    "df_clean.to_csv(\"customers_reconstructed.csv\", index=False)\n",
    "\n",
    "print(\"\\nPrimeras filas del DataFrame reconstruido:\\n\", df_clean.head())"
   ]
  },
  {
   "cell_type": "code",
   "execution_count": 22,
   "id": "0006399c-df65-43df-a09f-d5204331ab7d",
   "metadata": {},
   "outputs": [
    {
     "data": {
      "text/plain": [
       "(656, 12)"
      ]
     },
     "execution_count": 22,
     "metadata": {},
     "output_type": "execute_result"
    }
   ],
   "source": [
    "df_clean.shape"
   ]
  },
  {
   "cell_type": "markdown",
   "id": "5d45d759-7faa-42fb-b3c7-3276d5aebe78",
   "metadata": {},
   "source": [
    "# Crear nuevas columnas\n",
    "\n",
    "Dataset: https://people.sc.fsu.edu/~jburkardt/data/csv/hw_200.csv\n",
    "\n",
    "Este dataset contiene altura y peso de varias personas, pero están en pulgadas y libras. Hay que cambiarlas a unidades del Sistema Internacional (Centímetros y Kilogramos)"
   ]
  },
  {
   "cell_type": "code",
   "execution_count": 23,
   "id": "17838a0d-4ae2-4422-a02f-2dae41bdc797",
   "metadata": {},
   "outputs": [],
   "source": [
    "# Cargar dataset de empleados\n",
    "url = \"https://people.sc.fsu.edu/~jburkardt/data/csv/hw_200.csv\"\n",
    "df = pd.read_csv(url)"
   ]
  },
  {
   "cell_type": "code",
   "execution_count": 24,
   "id": "04e2aa93-cdd9-40a1-b260-c159f393b73e",
   "metadata": {},
   "outputs": [],
   "source": [
    "# Renombrar columnas para facilitar el manejo\n",
    "df.columns = ['Index', 'Height_Inches', 'Weight_Pounds']"
   ]
  },
  {
   "cell_type": "code",
   "execution_count": 25,
   "id": "783b05a9-773e-41e0-9ba3-bc0b1ebf702c",
   "metadata": {},
   "outputs": [],
   "source": [
    "# Convertir altura de pulgadas a centímetros (1 pulgada = 2.54 cm)\n",
    "df['Height_cm'] = df['Height_Inches'] * 2.54"
   ]
  },
  {
   "cell_type": "code",
   "execution_count": 26,
   "id": "e9c0446b-cb15-48ef-ab76-a17c2fd6960a",
   "metadata": {},
   "outputs": [],
   "source": [
    "# Convertir peso de libras a kilogramos (1 libra = 0.453592 kg)\n",
    "df['Weight_kg'] = df['Weight_Pounds'] * 0.453592"
   ]
  },
  {
   "cell_type": "code",
   "execution_count": 27,
   "id": "c28986ac-d366-46a2-8826-8e1456fcb9d3",
   "metadata": {},
   "outputs": [
    {
     "name": "stdout",
     "output_type": "stream",
     "text": [
      "   Index  Height_Inches  Weight_Pounds  Height_cm  Weight_kg\n",
      "0      1          65.78         112.99   167.0812  51.251360\n",
      "1      2          71.52         136.49   181.6608  61.910772\n",
      "2      3          69.40         153.03   176.2760  69.413184\n",
      "3      4          68.22         142.34   173.2788  64.564285\n",
      "4      5          67.79         144.30   172.1866  65.453326\n"
     ]
    }
   ],
   "source": [
    "# Mostrar primeras filas del DataFrame con las nuevas columnas\n",
    "print(df.head())"
   ]
  },
  {
   "cell_type": "code",
   "execution_count": 28,
   "id": "2000e125-9c85-4998-a3d0-3c47a4309f20",
   "metadata": {},
   "outputs": [],
   "source": [
    "# Redondear a dos decimales\n",
    "df['Height_cm'] = df['Height_cm'].round(2)\n",
    "df['Weight_kg'] = df['Weight_kg'].round(2)"
   ]
  },
  {
   "cell_type": "code",
   "execution_count": 29,
   "id": "63228c70-7b06-4975-92f6-d88859e1c1fe",
   "metadata": {},
   "outputs": [
    {
     "name": "stdout",
     "output_type": "stream",
     "text": [
      "   Index  Height_Inches  Weight_Pounds  Height_cm  Weight_kg\n",
      "0      1          65.78         112.99     167.08      51.25\n",
      "1      2          71.52         136.49     181.66      61.91\n",
      "2      3          69.40         153.03     176.28      69.41\n",
      "3      4          68.22         142.34     173.28      64.56\n",
      "4      5          67.79         144.30     172.19      65.45\n"
     ]
    }
   ],
   "source": [
    "print(df.head())"
   ]
  },
  {
   "cell_type": "code",
   "execution_count": 30,
   "id": "ae1e4bed-c916-4779-9535-e3443545ea86",
   "metadata": {},
   "outputs": [],
   "source": [
    "# Eliminar las columnas en pulgadas y libras\n",
    "df.drop(columns=['Height_Inches', 'Weight_Pounds'], inplace=True)"
   ]
  },
  {
   "cell_type": "code",
   "execution_count": 31,
   "id": "931950d1-ec2c-4618-bfa2-3ff7a30f567f",
   "metadata": {},
   "outputs": [
    {
     "name": "stdout",
     "output_type": "stream",
     "text": [
      "   Index  Height_cm  Weight_kg\n",
      "0      1     167.08      51.25\n",
      "1      2     181.66      61.91\n",
      "2      3     176.28      69.41\n",
      "3      4     173.28      64.56\n",
      "4      5     172.19      65.45\n"
     ]
    }
   ],
   "source": [
    "print(df.head())"
   ]
  },
  {
   "cell_type": "markdown",
   "id": "4d0fac39-d05f-4ad5-9ee0-98fc12b84b2f",
   "metadata": {},
   "source": [
    "### Calcular el Índice de Masa Corporal (ICM)\n",
    "\n",
    "$$ ICM = \\frac{peso}{altura^2} $$\n",
    "\n",
    "El peso en kilogramos y la altura en metros.\n",
    "\n",
    "Categorías del IMC:\n",
    "* Menor a 18.5: Bajo peso\n",
    "* 18.5 - 24.9: Normal\n",
    "* 25 - 29.9: Sobrepeso\n",
    "* 30 o más: Obesidad"
   ]
  },
  {
   "cell_type": "code",
   "execution_count": 32,
   "id": "9fd2797b-3503-4503-b3cf-eed701b4450f",
   "metadata": {},
   "outputs": [
    {
     "data": {
      "text/html": [
       "<div>\n",
       "<style scoped>\n",
       "    .dataframe tbody tr th:only-of-type {\n",
       "        vertical-align: middle;\n",
       "    }\n",
       "\n",
       "    .dataframe tbody tr th {\n",
       "        vertical-align: top;\n",
       "    }\n",
       "\n",
       "    .dataframe thead th {\n",
       "        text-align: right;\n",
       "    }\n",
       "</style>\n",
       "<table border=\"1\" class=\"dataframe\">\n",
       "  <thead>\n",
       "    <tr style=\"text-align: right;\">\n",
       "      <th></th>\n",
       "      <th>Index</th>\n",
       "      <th>Height_cm</th>\n",
       "      <th>Weight_kg</th>\n",
       "      <th>ICM</th>\n",
       "    </tr>\n",
       "  </thead>\n",
       "  <tbody>\n",
       "    <tr>\n",
       "      <th>0</th>\n",
       "      <td>1</td>\n",
       "      <td>167.08</td>\n",
       "      <td>51.25</td>\n",
       "      <td>18.358827</td>\n",
       "    </tr>\n",
       "    <tr>\n",
       "      <th>1</th>\n",
       "      <td>2</td>\n",
       "      <td>181.66</td>\n",
       "      <td>61.91</td>\n",
       "      <td>18.760404</td>\n",
       "    </tr>\n",
       "    <tr>\n",
       "      <th>2</th>\n",
       "      <td>3</td>\n",
       "      <td>176.28</td>\n",
       "      <td>69.41</td>\n",
       "      <td>22.336543</td>\n",
       "    </tr>\n",
       "    <tr>\n",
       "      <th>3</th>\n",
       "      <td>4</td>\n",
       "      <td>173.28</td>\n",
       "      <td>64.56</td>\n",
       "      <td>21.501395</td>\n",
       "    </tr>\n",
       "    <tr>\n",
       "      <th>4</th>\n",
       "      <td>5</td>\n",
       "      <td>172.19</td>\n",
       "      <td>65.45</td>\n",
       "      <td>22.074649</td>\n",
       "    </tr>\n",
       "  </tbody>\n",
       "</table>\n",
       "</div>"
      ],
      "text/plain": [
       "   Index  Height_cm  Weight_kg        ICM\n",
       "0      1     167.08      51.25  18.358827\n",
       "1      2     181.66      61.91  18.760404\n",
       "2      3     176.28      69.41  22.336543\n",
       "3      4     173.28      64.56  21.501395\n",
       "4      5     172.19      65.45  22.074649"
      ]
     },
     "execution_count": 32,
     "metadata": {},
     "output_type": "execute_result"
    }
   ],
   "source": [
    "df['ICM'] = df['Weight_kg']/(df['Height_cm']/100)**2\n",
    "df.head()"
   ]
  },
  {
   "cell_type": "code",
   "execution_count": 33,
   "id": "3c3624a7-0af6-4912-9ebd-851deda6ad25",
   "metadata": {},
   "outputs": [],
   "source": [
    "# Categorizar el ICM usando apply con lambda\n",
    "df[\"Categoria\"] = df[\"ICM\"].apply(lambda x: \n",
    "    \"Bajo peso\" if x < 18.5 else \n",
    "    \"Normal\" if x < 25 else \n",
    "    \"Sobrepeso\" if x < 30 else \n",
    "    \"Obesidad\"\n",
    ")"
   ]
  },
  {
   "cell_type": "code",
   "execution_count": 34,
   "id": "f7c3f387-c746-4b36-b82a-6411f74f0c4f",
   "metadata": {},
   "outputs": [
    {
     "data": {
      "text/html": [
       "<div>\n",
       "<style scoped>\n",
       "    .dataframe tbody tr th:only-of-type {\n",
       "        vertical-align: middle;\n",
       "    }\n",
       "\n",
       "    .dataframe tbody tr th {\n",
       "        vertical-align: top;\n",
       "    }\n",
       "\n",
       "    .dataframe thead th {\n",
       "        text-align: right;\n",
       "    }\n",
       "</style>\n",
       "<table border=\"1\" class=\"dataframe\">\n",
       "  <thead>\n",
       "    <tr style=\"text-align: right;\">\n",
       "      <th></th>\n",
       "      <th>Index</th>\n",
       "      <th>Height_cm</th>\n",
       "      <th>Weight_kg</th>\n",
       "      <th>ICM</th>\n",
       "      <th>Categoria</th>\n",
       "    </tr>\n",
       "  </thead>\n",
       "  <tbody>\n",
       "    <tr>\n",
       "      <th>0</th>\n",
       "      <td>1</td>\n",
       "      <td>167.08</td>\n",
       "      <td>51.25</td>\n",
       "      <td>18.358827</td>\n",
       "      <td>Bajo peso</td>\n",
       "    </tr>\n",
       "    <tr>\n",
       "      <th>1</th>\n",
       "      <td>2</td>\n",
       "      <td>181.66</td>\n",
       "      <td>61.91</td>\n",
       "      <td>18.760404</td>\n",
       "      <td>Normal</td>\n",
       "    </tr>\n",
       "    <tr>\n",
       "      <th>2</th>\n",
       "      <td>3</td>\n",
       "      <td>176.28</td>\n",
       "      <td>69.41</td>\n",
       "      <td>22.336543</td>\n",
       "      <td>Normal</td>\n",
       "    </tr>\n",
       "    <tr>\n",
       "      <th>3</th>\n",
       "      <td>4</td>\n",
       "      <td>173.28</td>\n",
       "      <td>64.56</td>\n",
       "      <td>21.501395</td>\n",
       "      <td>Normal</td>\n",
       "    </tr>\n",
       "    <tr>\n",
       "      <th>4</th>\n",
       "      <td>5</td>\n",
       "      <td>172.19</td>\n",
       "      <td>65.45</td>\n",
       "      <td>22.074649</td>\n",
       "      <td>Normal</td>\n",
       "    </tr>\n",
       "  </tbody>\n",
       "</table>\n",
       "</div>"
      ],
      "text/plain": [
       "   Index  Height_cm  Weight_kg        ICM  Categoria\n",
       "0      1     167.08      51.25  18.358827  Bajo peso\n",
       "1      2     181.66      61.91  18.760404     Normal\n",
       "2      3     176.28      69.41  22.336543     Normal\n",
       "3      4     173.28      64.56  21.501395     Normal\n",
       "4      5     172.19      65.45  22.074649     Normal"
      ]
     },
     "execution_count": 34,
     "metadata": {},
     "output_type": "execute_result"
    }
   ],
   "source": [
    "df.head()"
   ]
  },
  {
   "cell_type": "markdown",
   "id": "65c78cca-a60b-4983-bbcc-2079afad41ad",
   "metadata": {},
   "source": [
    "Pero revisando la documentación nos podemos encontrar mejores formas de hacerlo\n",
    "\n",
    "https://pandas.pydata.org/docs/reference/general_functions.html"
   ]
  },
  {
   "cell_type": "code",
   "execution_count": 35,
   "id": "dac332d2-d916-48ef-b411-3f90bcb75e04",
   "metadata": {},
   "outputs": [
    {
     "data": {
      "text/html": [
       "<div>\n",
       "<style scoped>\n",
       "    .dataframe tbody tr th:only-of-type {\n",
       "        vertical-align: middle;\n",
       "    }\n",
       "\n",
       "    .dataframe tbody tr th {\n",
       "        vertical-align: top;\n",
       "    }\n",
       "\n",
       "    .dataframe thead th {\n",
       "        text-align: right;\n",
       "    }\n",
       "</style>\n",
       "<table border=\"1\" class=\"dataframe\">\n",
       "  <thead>\n",
       "    <tr style=\"text-align: right;\">\n",
       "      <th></th>\n",
       "      <th>Index</th>\n",
       "      <th>Height_cm</th>\n",
       "      <th>Weight_kg</th>\n",
       "      <th>ICM</th>\n",
       "      <th>Categoria</th>\n",
       "    </tr>\n",
       "  </thead>\n",
       "  <tbody>\n",
       "    <tr>\n",
       "      <th>0</th>\n",
       "      <td>1</td>\n",
       "      <td>167.08</td>\n",
       "      <td>51.25</td>\n",
       "      <td>18.358827</td>\n",
       "      <td>Bajo peso</td>\n",
       "    </tr>\n",
       "    <tr>\n",
       "      <th>1</th>\n",
       "      <td>2</td>\n",
       "      <td>181.66</td>\n",
       "      <td>61.91</td>\n",
       "      <td>18.760404</td>\n",
       "      <td>Normal</td>\n",
       "    </tr>\n",
       "    <tr>\n",
       "      <th>2</th>\n",
       "      <td>3</td>\n",
       "      <td>176.28</td>\n",
       "      <td>69.41</td>\n",
       "      <td>22.336543</td>\n",
       "      <td>Normal</td>\n",
       "    </tr>\n",
       "    <tr>\n",
       "      <th>3</th>\n",
       "      <td>4</td>\n",
       "      <td>173.28</td>\n",
       "      <td>64.56</td>\n",
       "      <td>21.501395</td>\n",
       "      <td>Normal</td>\n",
       "    </tr>\n",
       "    <tr>\n",
       "      <th>4</th>\n",
       "      <td>5</td>\n",
       "      <td>172.19</td>\n",
       "      <td>65.45</td>\n",
       "      <td>22.074649</td>\n",
       "      <td>Normal</td>\n",
       "    </tr>\n",
       "  </tbody>\n",
       "</table>\n",
       "</div>"
      ],
      "text/plain": [
       "   Index  Height_cm  Weight_kg        ICM  Categoria\n",
       "0      1     167.08      51.25  18.358827  Bajo peso\n",
       "1      2     181.66      61.91  18.760404     Normal\n",
       "2      3     176.28      69.41  22.336543     Normal\n",
       "3      4     173.28      64.56  21.501395     Normal\n",
       "4      5     172.19      65.45  22.074649     Normal"
      ]
     },
     "execution_count": 35,
     "metadata": {},
     "output_type": "execute_result"
    }
   ],
   "source": [
    "df[\"Categoria\"] = pd.cut(\n",
    "    df[\"ICM\"],\n",
    "    [0, 18.5, 24.9, 29.9, float(\"inf\")],\n",
    "    labels=[\"Bajo peso\", \"Normal\", \"Sobrepeso\", \"Obesidad\"]\n",
    ")\n",
    "df.head()"
   ]
  },
  {
   "cell_type": "code",
   "execution_count": 36,
   "id": "6a65fdd5-47f1-4ef1-896f-47e852515f82",
   "metadata": {},
   "outputs": [],
   "source": [
    "# Guardar el CSV\n",
    "df.to_csv(\"empleados_icm.csv\", index=False)"
   ]
  },
  {
   "cell_type": "markdown",
   "id": "db2fdc43-eb88-4544-bde5-6d6657e1a3d1",
   "metadata": {},
   "source": [
    "# Agrupación de datos\n",
    "\n",
    "Datasest: https://code.datasciencedojo.com/datasciencedojo/datasets/tree/master/Wholesale%20Customers\n",
    "\n",
    "Objetivo: Saber si los clientes de hoteles y restaurantes gastan más que los clientes de retail."
   ]
  },
  {
   "cell_type": "code",
   "execution_count": 37,
   "id": "d7527759-988d-477b-b4ed-dd3fd957bf06",
   "metadata": {},
   "outputs": [
    {
     "name": "stdout",
     "output_type": "stream",
     "text": [
      "   Channel  Region  Fresh  Milk  Grocery  Frozen  Detergents_Paper  Delicassen\n",
      "0        2       3  12669  9656     7561     214              2674        1338\n",
      "1        2       3   7057  9810     9568    1762              3293        1776\n",
      "2        2       3   6353  8808     7684    2405              3516        7844\n",
      "3        1       3  13265  1196     4221    6404               507        1788\n",
      "4        2       3  22615  5410     7198    3915              1777        5185\n"
     ]
    }
   ],
   "source": [
    "# Descargad el dataset y guardarlo\n",
    "dspath = \"./data/wcd.csv\"\n",
    "\n",
    "# Cargar el dataset\n",
    "df = pd.read_csv(dspath)\n",
    "\n",
    "# Mostrar las primeras filas del dataset\n",
    "print(df.head())"
   ]
  },
  {
   "cell_type": "code",
   "execution_count": 38,
   "id": "a77b5d29-a2a9-43f7-b985-490e5ab13743",
   "metadata": {},
   "outputs": [
    {
     "name": "stdout",
     "output_type": "stream",
     "text": [
      "           Region         Fresh          Milk       Grocery       Frozen  \\\n",
      "Channel                                                                    \n",
      "1        2.510067  13475.560403   3451.724832   3962.137584  3748.251678   \n",
      "2        2.612676   8904.323944  10716.500000  16322.852113  1652.612676   \n",
      "\n",
      "         Detergents_Paper   Delicassen  \n",
      "Channel                                 \n",
      "1              790.560403  1415.956376  \n",
      "2             7269.507042  1753.436620  \n"
     ]
    }
   ],
   "source": [
    "# Agrupar por 'Channel' y calcular la media\n",
    "gasto_promedio = df.groupby('Channel').mean()\n",
    "\n",
    "# Mostrar el gasto promedio por categoría y canal\n",
    "print(gasto_promedio)"
   ]
  },
  {
   "cell_type": "markdown",
   "id": "16a31bae-08fc-44b9-99d8-4f86566b7df4",
   "metadata": {},
   "source": [
    "## ¿Y si lo que quiero saber es en qué gastan más proporcionalmente?"
   ]
  },
  {
   "cell_type": "code",
   "execution_count": 39,
   "id": "61795465-daf8-4993-8fb5-6a8765660f85",
   "metadata": {},
   "outputs": [],
   "source": [
    "# Definir las columnas de gasto\n",
    "gasto_columnas = ['Fresh', 'Milk', 'Grocery', 'Frozen', 'Detergents_Paper', 'Delicassen']\n",
    "\n",
    "# Calcular el gasto total por cliente\n",
    "df['Total_Gasto'] = df[gasto_columnas].sum(axis=1)\n",
    "\n",
    "# Calcular la proporción de gasto en cada categoría\n",
    "for col in gasto_columnas:\n",
    "    df[col + '_Proporcion'] = df[col] / df['Total_Gasto']\n",
    "\n",
    "# Agrupar por \"Channel\" y calcular el promedio de las proporciones\n",
    "proporciones_por_canal = df.groupby('Channel')[[col + '_Proporcion' for col in gasto_columnas]].mean()\n"
   ]
  },
  {
   "cell_type": "code",
   "execution_count": 40,
   "id": "5de19a84-458b-4182-811a-b7aac189105e",
   "metadata": {},
   "outputs": [
    {
     "name": "stdout",
     "output_type": "stream",
     "text": [
      "         Fresh_Proporcion  Milk_Proporcion  Grocery_Proporcion  \\\n",
      "Channel                                                          \n",
      "1                0.458876         0.141815            0.173444   \n",
      "2                0.199028         0.221439            0.347684   \n",
      "\n",
      "         Frozen_Proporcion  Detergents_Paper_Proporcion  Delicassen_Proporcion  \n",
      "Channel                                                                         \n",
      "1                 0.137127                     0.036992               0.051746  \n",
      "2                 0.039962                     0.152363               0.039524  \n"
     ]
    }
   ],
   "source": [
    "print(proporciones_por_canal)"
   ]
  },
  {
   "cell_type": "code",
   "execution_count": null,
   "id": "26bd6e02-b1fe-4c42-a4c9-16f718f33d32",
   "metadata": {},
   "outputs": [],
   "source": []
  }
 ],
 "metadata": {
  "kernelspec": {
   "display_name": "Python 3 (ipykernel)",
   "language": "python",
   "name": "python3"
  },
  "language_info": {
   "codemirror_mode": {
    "name": "ipython",
    "version": 3
   },
   "file_extension": ".py",
   "mimetype": "text/x-python",
   "name": "python",
   "nbconvert_exporter": "python",
   "pygments_lexer": "ipython3",
   "version": "3.8.10"
  }
 },
 "nbformat": 4,
 "nbformat_minor": 5
}
