{
 "cells": [
  {
   "cell_type": "markdown",
   "id": "2657b887-4e61-473d-8a07-ceae15acb8ee",
   "metadata": {},
   "source": [
    "# Web Scraping"
   ]
  },
  {
   "cell_type": "code",
   "execution_count": 1,
   "id": "ba5904f3-9432-436c-9b81-1f8ef304920b",
   "metadata": {},
   "outputs": [],
   "source": [
    "import requests\n",
    "import csv\n",
    "from bs4 import BeautifulSoup"
   ]
  },
  {
   "cell_type": "markdown",
   "id": "a70017a5-006e-407f-99bf-330a2758b08f",
   "metadata": {},
   "source": [
    "## Traer con la librería requests la web"
   ]
  },
  {
   "cell_type": "code",
   "execution_count": 6,
   "id": "236f1be7-a4fc-4da5-afb2-383711a2e395",
   "metadata": {},
   "outputs": [],
   "source": [
    "# URL de la portada de Menéame\n",
    "url = \"https://www.meneame.net/\"\n",
    "\n",
    "# Encabezados para simular un navegador real\n",
    "headers = {\n",
    "    \"User-Agent\": \"Mozilla/5.0 (Windows NT 10.0; Win64; x64) AppleWebKit/537.36 (KHTML, like Gecko) Chrome/114.0.0.0 Safari/537.36\"\n",
    "}\n",
    "\n",
    "# Obtener la página\n",
    "response = requests.get(url, headers=headers)"
   ]
  },
  {
   "cell_type": "code",
   "execution_count": 7,
   "id": "61de08a7-0002-4d13-a83a-2526d2700072",
   "metadata": {},
   "outputs": [
    {
     "data": {
      "text/plain": [
       "<Response [403]>"
      ]
     },
     "execution_count": 7,
     "metadata": {},
     "output_type": "execute_result"
    }
   ],
   "source": [
    "session = requests.session()\n",
    "response = session.get(url, headers=headers)\n",
    "response"
   ]
  },
  {
   "cell_type": "markdown",
   "id": "f6f0362e-2558-496c-995b-c67b7991237d",
   "metadata": {},
   "source": [
    "## Manejo de errores"
   ]
  },
  {
   "cell_type": "code",
   "execution_count": 4,
   "id": "03f72af2-8a2c-4602-8aee-bb4fe0a129c1",
   "metadata": {},
   "outputs": [
    {
     "ename": "HTTPError",
     "evalue": "403 Client Error: Forbidden for url: https://www.meneame.net/",
     "output_type": "error",
     "traceback": [
      "\u001b[0;31m---------------------------------------------------------------------------\u001b[0m",
      "\u001b[0;31mHTTPError\u001b[0m                                 Traceback (most recent call last)",
      "Cell \u001b[0;32mIn[4], line 1\u001b[0m\n\u001b[0;32m----> 1\u001b[0m \u001b[43mresponse\u001b[49m\u001b[38;5;241;43m.\u001b[39;49m\u001b[43mraise_for_status\u001b[49m\u001b[43m(\u001b[49m\u001b[43m)\u001b[49m\n\u001b[1;32m      2\u001b[0m \u001b[38;5;66;03m# Esto fallaría si hubiese algo que no sea un 2XX\u001b[39;00m\n\u001b[1;32m      3\u001b[0m response\u001b[38;5;241m.\u001b[39mstatus_code\n",
      "File \u001b[0;32m~/.venv/lib/python3.8/site-packages/requests/models.py:1024\u001b[0m, in \u001b[0;36mResponse.raise_for_status\u001b[0;34m(self)\u001b[0m\n\u001b[1;32m   1019\u001b[0m     http_error_msg \u001b[38;5;241m=\u001b[39m (\n\u001b[1;32m   1020\u001b[0m         \u001b[38;5;124mf\u001b[39m\u001b[38;5;124m\"\u001b[39m\u001b[38;5;132;01m{\u001b[39;00m\u001b[38;5;28mself\u001b[39m\u001b[38;5;241m.\u001b[39mstatus_code\u001b[38;5;132;01m}\u001b[39;00m\u001b[38;5;124m Server Error: \u001b[39m\u001b[38;5;132;01m{\u001b[39;00mreason\u001b[38;5;132;01m}\u001b[39;00m\u001b[38;5;124m for url: \u001b[39m\u001b[38;5;132;01m{\u001b[39;00m\u001b[38;5;28mself\u001b[39m\u001b[38;5;241m.\u001b[39murl\u001b[38;5;132;01m}\u001b[39;00m\u001b[38;5;124m\"\u001b[39m\n\u001b[1;32m   1021\u001b[0m     )\n\u001b[1;32m   1023\u001b[0m \u001b[38;5;28;01mif\u001b[39;00m http_error_msg:\n\u001b[0;32m-> 1024\u001b[0m     \u001b[38;5;28;01mraise\u001b[39;00m HTTPError(http_error_msg, response\u001b[38;5;241m=\u001b[39m\u001b[38;5;28mself\u001b[39m)\n",
      "\u001b[0;31mHTTPError\u001b[0m: 403 Client Error: Forbidden for url: https://www.meneame.net/"
     ]
    }
   ],
   "source": [
    "response.raise_for_status()\n",
    "# Esto fallaría si hubiese algo que no sea un 2XX\n",
    "response.status_code"
   ]
  },
  {
   "cell_type": "code",
   "execution_count": null,
   "id": "283effb5-65f1-4a77-916c-f8e93dc1f9e7",
   "metadata": {},
   "outputs": [],
   "source": [
    "soup = BeautifulSoup(response.text, \"html.parser\")"
   ]
  },
  {
   "cell_type": "markdown",
   "id": "5515788a-c4b9-4706-8fd5-e6baf2ac47b7",
   "metadata": {},
   "source": [
    "## Encontrar las noticias en el HTML\n",
    "\n",
    "### Preguntas que me debo hacer\n",
    "\n",
    "¿Qué puedo hacer para identificar qué partes son noticias?\n",
    "\n",
    "¿Qué clases CSS utilizan las noticias?"
   ]
  },
  {
   "cell_type": "code",
   "execution_count": null,
   "id": "291b9785-d94a-4cb9-916f-225823c70fe7",
   "metadata": {},
   "outputs": [],
   "source": [
    "noticias = soup.find_all(\"div\", class_=\"news-summary\")"
   ]
  },
  {
   "cell_type": "markdown",
   "id": "17982b62-bcb5-4706-a5fa-9a884977c422",
   "metadata": {},
   "source": [
    "## Por cada noticia, recuperar el numero de meneos, clicks y comentarios\n",
    "\n",
    "Puedo ir probando con una sola noticia a ver que sale...\n",
    "\n",
    "\n"
   ]
  },
  {
   "cell_type": "code",
   "execution_count": null,
   "id": "9372a2be-b609-4d4b-ab3c-520a8301addd",
   "metadata": {},
   "outputs": [],
   "source": [
    "# Veamos lo que trae una noticia\n",
    "noticias[0]"
   ]
  },
  {
   "cell_type": "code",
   "execution_count": null,
   "id": "8b600c36-c558-4229-a9e4-36f34f477bc1",
   "metadata": {},
   "outputs": [],
   "source": [
    "# Un poco más bonito\n",
    "print(noticias[0].prettify())"
   ]
  },
  {
   "cell_type": "markdown",
   "id": "67fc9759-c013-4aac-9f7c-543db16adec9",
   "metadata": {},
   "source": [
    "## ¿Cómo puedo recuperar el número de meneos?\n",
    "\n",
    "* https://www.crummy.com/software/BeautifulSoup/bs4/doc/\n",
    "* https://www.tutorialspoint.com/beautiful_soup/beautiful_soup_navigating_by_tags.htm\n",
    "\n",
    "Los Tag de beautiful soup tienen métodos que pueden sernos útiles\n",
    "* tag.find(name, attrs, recursive, text, limit) -> Devuelve el primer child que cumpla los criterios.\n",
    "* tag.find_all(name, attrs, recursive, text, limit) -> Devuelve una lista de los child que cumpla los criterios.\n",
    "* tag.select(css_selector) -> Permite usar CSS para obtener elementos.\n",
    "* tag.parent -> Retorna el padre de un tag.\n",
    "* tag.text -> Retorna el texto interno de un tag.\n",
    "* tag.html -> Retorna el HTML interno de un tag.\n",
    "* tag.get_text(strip=True) -> Retorna el texto interno de un tag (quitando etiquetas internas)\n",
    "\n",
    "\n"
   ]
  },
  {
   "cell_type": "code",
   "execution_count": null,
   "id": "739c70e2-dbe6-40d3-a168-513ab082301a",
   "metadata": {},
   "outputs": [],
   "source": [
    "# Recuperar meneo\n",
    "noticia = noticias[0]\n",
    "meneos = noticia.find(\"div\", class_=\"votes\").get_text(strip=True)\n",
    "print(meneos)"
   ]
  },
  {
   "cell_type": "code",
   "execution_count": null,
   "id": "ac78ae89-ae5a-49bc-83bf-bd4dd4ca22bc",
   "metadata": {},
   "outputs": [],
   "source": [
    "# Recuperar meneo\n",
    "noticia = noticias[0]\n",
    "meneos = noticia.find(\"div\", class_=\"votes\").find('a').text\n",
    "print(meneos)"
   ]
  },
  {
   "cell_type": "code",
   "execution_count": null,
   "id": "32a0b97c-497d-44eb-98d4-5489596ffe78",
   "metadata": {},
   "outputs": [],
   "source": [
    "# Recuperar click\n",
    "noticia = noticias[0]\n",
    "clicks = noticia.find(\"div\", class_=\"clics\").find('span').text\n",
    "print(clicks)"
   ]
  },
  {
   "cell_type": "code",
   "execution_count": null,
   "id": "9e58c491-5338-468e-9bd3-1302be4f7db5",
   "metadata": {},
   "outputs": [],
   "source": [
    "# Recuperar num de comentarios\n",
    "noticia = noticias[0]\n",
    "ncoment = noticia.find(\"div\", class_=\"news-details-main\").find('a', class_=\"comments\").text\n",
    "print(ncoment)"
   ]
  },
  {
   "cell_type": "markdown",
   "id": "24ef42b7-3e84-49e5-9019-2c50ae67a561",
   "metadata": {},
   "source": [
    "## Expresiones regulares\n",
    "\n",
    "Las expresiones regulares (regex) son patrones que permiten buscar, extraer y manipular texto de manera eficiente. Se utilizan en muchos lenguajes de programación, incluyendo Python, con la librería re que ya viene instalada.\n",
    "\n",
    "Librería re de python\n",
    "* https://docs.python.org/es/3.13/library/re.html\n",
    "\n",
    "Recurso interesante\n",
    "* https://ihateregex.io/\n"
   ]
  },
  {
   "cell_type": "code",
   "execution_count": null,
   "id": "58ee6137-162c-494e-9bea-883a5a8340fb",
   "metadata": {},
   "outputs": [],
   "source": [
    "# EXTRA: Utilizar expresiones regulares para quedarnos solo con el numero\n",
    "import re\n",
    "\n",
    "c = re.search(r'\\d+', ncoment)\n",
    "int(c[0])"
   ]
  },
  {
   "cell_type": "code",
   "execution_count": null,
   "id": "e2ba2091-7b1a-4f63-a40a-8398f8f60267",
   "metadata": {},
   "outputs": [],
   "source": [
    "type(c)"
   ]
  },
  {
   "cell_type": "code",
   "execution_count": null,
   "id": "692d98f5-2f38-4edc-a46e-3379a28d9d61",
   "metadata": {},
   "outputs": [],
   "source": [
    "c.group()"
   ]
  },
  {
   "cell_type": "code",
   "execution_count": null,
   "id": "3634aa9c-c639-4872-a089-2bf21d699351",
   "metadata": {},
   "outputs": [],
   "source": [
    "type(c.group())"
   ]
  },
  {
   "cell_type": "code",
   "execution_count": null,
   "id": "3e0cab85-8c19-485c-baf4-63fa71fff522",
   "metadata": {},
   "outputs": [],
   "source": [
    "# Obtener la URL de la noticia\n",
    "# Podemos acceder al atributo de un tag como si fuera un diccionario.\n",
    "\n",
    "url_noticia = noticia.find(\"a\", class_=\"comments\")[\"href\"]\n",
    "url_noticia"
   ]
  },
  {
   "cell_type": "code",
   "execution_count": null,
   "id": "f6d5c0fe-1ebf-4c6f-a7b5-3b09f5cf6be9",
   "metadata": {},
   "outputs": [],
   "source": [
    "noticias_lista = []\n",
    "for noticia in noticias:\n",
    "    # Obtener el título\n",
    "    titulo = noticia.find(\"h2\").get_text(strip=True)\n",
    "\n",
    "    # Obtener número de meneos\n",
    "    meneos = meneos = noticia.find(\"div\", class_=\"votes\").find('a').text\n",
    "\n",
    "    # Obtener número de clics\n",
    "    clicks = noticia.find(\"div\", class_=\"clics\").find('span').text\n",
    "\n",
    "    # Obtener número de comentarios\n",
    "    ncoment = noticia.find(\"div\", class_=\"news-details-main\").find('a', class_=\"comments\").text\n",
    "    comentarios = re.search(r'\\d+', ncoment).group()\n",
    "\n",
    "    # Obtener la fuente de la noticia (dominio)\n",
    "    fuente = noticia.find(\"span\", class_=\"showmytitle\").get_text(strip=True)\n",
    "\n",
    "    # Obtener la URL de la noticia\n",
    "    url_noticia = noticia.find(\"a\", class_=\"comments\")[\"href\"]\n",
    "    url_noticia = f\"https://meneame.net/{url_noticia}\"\n",
    "\n",
    "    # Agregar la noticia a la lista\n",
    "    noticias_lista.append([titulo, meneos, clicks, comentarios, fuente, url_noticia])\n",
    "\n"
   ]
  },
  {
   "cell_type": "code",
   "execution_count": null,
   "id": "027e52ab-abd2-498c-9359-d69d72510c55",
   "metadata": {},
   "outputs": [],
   "source": [
    "# Guardar en un archivo CSV con manejo seguro de comas y caracteres especiales\n",
    "import os\n",
    "\n",
    "basepath = os.getcwd()\n",
    "filename = \"noticias.csv\"\n",
    "fullpath = os.path.join(basepath, filename)\n",
    "\n",
    "with open(fullpath, mode=\"w\", newline=\"\", encoding=\"utf-8\") as file:\n",
    "    print(\"Guardando archivo\")\n",
    "    writer = csv.writer(file, quoting=csv.QUOTE_ALL)  # Se asegura de encerrar los valores en comillas\n",
    "    writer.writerow([\"Título\", \"Meneos\", \"Clicks\", \"Comentarios\", \"Fuente\", \"URL\"])  # Encabezados\n",
    "    writer.writerows(noticias_lista)\n",
    "print(f\"Archivo guardado en {filename}.\")\n"
   ]
  },
  {
   "cell_type": "code",
   "execution_count": null,
   "id": "c88d4a60-d528-4159-8cf9-0c9ee82092ca",
   "metadata": {},
   "outputs": [],
   "source": []
  }
 ],
 "metadata": {
  "kernelspec": {
   "display_name": "Python 3 (ipykernel)",
   "language": "python",
   "name": "python3"
  },
  "language_info": {
   "codemirror_mode": {
    "name": "ipython",
    "version": 3
   },
   "file_extension": ".py",
   "mimetype": "text/x-python",
   "name": "python",
   "nbconvert_exporter": "python",
   "pygments_lexer": "ipython3",
   "version": "3.8.10"
  }
 },
 "nbformat": 4,
 "nbformat_minor": 5
}
