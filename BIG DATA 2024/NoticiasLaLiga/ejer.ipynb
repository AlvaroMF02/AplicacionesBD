{
 "cells": [
  {
   "cell_type": "code",
   "execution_count": 14,
   "metadata": {},
   "outputs": [],
   "source": [
    "import pymongo\n",
    "from datetime import datetime\n",
    "import feedparser\n",
    "from pymongo import MongoClient\n",
    "import hashlib\n"
   ]
  },
  {
   "cell_type": "code",
   "execution_count": 72,
   "metadata": {},
   "outputs": [],
   "source": [
    "import hashlib\n",
    "import feedparser\n",
    "from pymongo import MongoClient\n",
    "\n",
    "def fetch_rss():\n",
    "    # BD\n",
    "    client = MongoClient('mongodb://localhost:27017/')\n",
    "    db = client['BD']\n",
    "    coleccion = db['Furbo']\n",
    "    \n",
    "    # pagina para robar datos\n",
    "    feed = feedparser.parse(\"https://e00-marca.uecdn.es/rss/futbol/primera-division.xml\")\n",
    "    articles = []\n",
    "    \n",
    "    for entry in feed.entries:\n",
    "        # para obtener las categorias\n",
    "        categories = [category for category in entry.get('tags', [])]\n",
    "        \n",
    "        # Calcular el hash del artículo\n",
    "        article_hash = hashlib.sha256(entry.title.encode('utf-8')).hexdigest()\n",
    "        \n",
    "        # Comprobar si el artículo ya existe en la base de datos usando el hash\n",
    "        if (any(category.term for category in categories)) and coleccion.find_one({'hash': article_hash}) is None:\n",
    "            article = {\n",
    "                \"hash\": article_hash,\n",
    "                \"title\": entry.title,\n",
    "                \"description\": entry.link,\n",
    "                \"categories\": [category.term for category in categories],  # Lista de todas las categorías\n",
    "            }\n",
    "            # inserta el articulo en la lista \n",
    "            articles.append(article)\n",
    "            # guardarlo en la base de datos \n",
    "            coleccion.insert_one(article)\n",
    "        \n",
    "    return articles\n"
   ]
  },
  {
   "cell_type": "code",
   "execution_count": 74,
   "metadata": {},
   "outputs": [
    {
     "data": {
      "text/plain": [
       "[]"
      ]
     },
     "execution_count": 74,
     "metadata": {},
     "output_type": "execute_result"
    }
   ],
   "source": [
    "furbo = fetch_rss()\n",
    "furbo"
   ]
  },
  {
   "cell_type": "code",
   "execution_count": 75,
   "metadata": {},
   "outputs": [
    {
     "name": "stdout",
     "output_type": "stream",
     "text": [
      "['Furbo']\n",
      "{'_id': ObjectId('67d1d1174cc04551e56eb7c8'), 'hash': 'bc9cc7e600f93345ac08bda8fe8e96ee90147d619464553944f7c90b28249f4c', 'title': 'Del Nido Benavente y la postura de los \\'americanos\\': \"Sabemos muchas cosas y no sabemos nada\"', 'description': 'https://www.marca.com/futbol/sevilla/2025/03/12/nido-benavente-postura-americanos-sabemos-muchas-cosas-sabemos.html', 'categories': ['Primera División', 'Sevilla FC', 'José María del Nido']}\n",
      "{'_id': ObjectId('67d1d1174cc04551e56eb7c9'), 'hash': '57370d43034c433f67cfd1a20683cc894ae67cea84887b5def384eda198a298c', 'title': 'Parejo: “El Roig Arena es espectacular; el nuevo Mestalla no sé si lo voy a ver”', 'description': 'https://www.marca.com/futbol/villarreal/2025/03/12/parejo-roig-arena-espectacular-nuevo-mestalla-ver.html', 'categories': ['Primera División', 'Valencia CF', 'Villarreal CF']}\n",
      "{'_id': ObjectId('67d1d1174cc04551e56eb7ca'), 'hash': 'd8a60f60455ab7d413cc9b5cc42508b14c2f0c248d3b41651b914ed2c905e628', 'title': 'El Roig Arena patrocinará la camiseta del Villarreal contra el Real Madrid', 'description': 'https://www.marca.com/futbol/villarreal/2025/03/12/roig-arena-patrocinara-camiseta-villarreal-real-madrid.html', 'categories': ['Polideportivo', 'Primera División', 'baloncesto', 'Villarreal CF']}\n",
      "{'_id': ObjectId('67d1d1174cc04551e56eb7cb'), 'hash': '17e0651d94af1f9e3b894e0907c2c751739aace8238c96fe98210141c9636e0b', 'title': \"Corberán pendiente de su 'comodín' Rioja\", 'description': 'https://www.marca.com/futbol/valencia/2025/03/12/corberan-pendiente-comodin-rioja.html', 'categories': ['Primera División', 'Valencia CF']}\n",
      "{'_id': ObjectId('67d1d1174cc04551e56eb7cc'), 'hash': 'a2a4240a4fae9d662b2bbcd3fbbf8fd7e57ae2b842b79ab23ef1efb1490bef2c', 'title': 'Onces probables y chollos para la jornada 28 de LaLiga', 'description': 'https://www.marca.com/fantasy-marca/2025/03/12/67d09c4046163f46138b459a.html', 'categories': ['Fantasy MARCA', 'Primera División', 'La Liga', 'Liga Española', 'Fútbol']}\n",
      "{'_id': ObjectId('67d1d1174cc04551e56eb7cd'), 'hash': 'cc97b68b3c01ec6b4831f133ddb38db1b7fe91d99dce2f274ed004da9901e25d', 'title': 'Borja Mayoral: “Vestir La Roja sería un sueño, ojalá llegue pronto”', 'description': 'https://www.marca.com/futbol/getafe/2025/03/12/borja-mayoral-vestir-roja-seria-sueno-ojala-llegue-pronto.html', 'categories': ['fútbol', 'Primera División', 'Getafe CF', 'Borja Mayoral']}\n",
      "{'_id': ObjectId('67d1d1174cc04551e56eb7ce'), 'hash': '5b08d08c9c477330ec0d5948164db428019621fe153bc94fce6ac4485e0d8b13', 'title': 'Saúl: \"Entiendo que por ser Saúl me exijan mucho más\"', 'description': 'https://www.marca.com/futbol/sevilla/2025/03/12/saul-entiendo-saul-me-exijan.html', 'categories': ['Primera División', 'Sevilla FC', 'Saúl Ñíguez']}\n",
      "{'_id': ObjectId('67d1d1174cc04551e56eb7cf'), 'hash': '875a1e84563d15d0fbce8f0372ba86403a39bc035dcc5085b96d072fdaaa595f', 'title': 'Súplica al mundo arbitral: \"Transparencia, independencia y claridad\"', 'description': 'https://www.marca.com/futbol/federacion-espanola-futbol/2025/03/12/suplica-mundo-arbitral-transparencia-independencia-claridad.html', 'categories': ['Primera División', 'RFEF', 'Luis Medina Cantalejo', 'Rafael Louzán']}\n",
      "{'_id': ObjectId('67d1d1174cc04551e56eb7d0'), 'hash': '1bc486b87db5803362ef4d6f821e4e4db9021ab42bdd55b8d1097ea22cd240f8', 'title': \"Sadiq iguala a Madjer, apunta a Zaza y el sueño de Ilie: de camino a ser el máximo 'goleador de medio año' en el Valencia\", 'description': 'https://www.marca.com/futbol/valencia/2025/03/12/sadiq-iguala-madjer-apunta-zaza-sueno-ilie-camino-maximo-goleador-medio-ano-valencia.html', 'categories': ['Primera División', 'LaLiga Fantasy', 'Valencia CF']}\n",
      "{'_id': ObjectId('67d1d1174cc04551e56eb7d1'), 'hash': '8627c6492f57986b223ecf5a55d39e3fe27799b18dabcb115acadddf1dd1eb2e', 'title': 'El Valencia también reconstruirá el campo de fútbol del Sedaví: \"Jamás lo podremos olvidar\"', 'description': 'https://www.marca.com/futbol/valencia/2025/03/12/valencia-tambien-reconstruira-campo-futbol-sedavi-jamas-podremos-olvidar.html', 'categories': ['Primera División', 'Valencia CF', 'DANA']}\n",
      "{'_id': ObjectId('67d1d1174cc04551e56eb7d2'), 'hash': 'f4eff2e9a713cd93ff3174a6f412a7183d92ba166d5c0c150539d9297f21d7f4', 'title': 'Valverde: \"Queremos poner en el campo lo que nosotros somos\"', 'description': 'https://www.marca.com/futbol/athletic/2025/03/12/valverde-queremos-poner-campo-nosotros.html', 'categories': ['fútbol', 'Primera División', 'Athletic de Bilbao', 'UEFA Europa League']}\n",
      "{'_id': ObjectId('67d1d1174cc04551e56eb7d3'), 'hash': 'fe04076a2dbbbca8ab0130529fbe5b6a4f7bfdbfd831eb10f6c137e15ee92115', 'title': 'Cardoso, sancionado con un partido por acumulación de amarillas', 'description': 'https://www.marca.com/futbol/betis/2025/03/12/cardoso-sancionado-partido-acumulacion-amarillas.html', 'categories': ['Primera División', 'Real Betis Balompié']}\n",
      "{'_id': ObjectId('67d1d1174cc04551e56eb7d4'), 'hash': '8dc585d5e657a291bbe5e4c58dc748df801773797a2651c5df0709fd3fd378db', 'title': 'Gudelj regresa a los entrenamientos', 'description': 'https://www.marca.com/futbol/sevilla/2025/03/12/gudelj-regresa-entrenamientos.html', 'categories': ['Primera División', 'Sevilla FC']}\n",
      "{'_id': ObjectId('67d1d1174cc04551e56eb7d5'), 'hash': '11cbdf225346b8654c70e5e06f01c17f3af5a84b075f2feb60fe87acb808c6df', 'title': 'De Marcos: \"Lo que vale es ganar y eso depende de nosotros mismos\"', 'description': 'https://www.marca.com/futbol/athletic/2025/03/12/marcos-vale-ganar-depende-nosotros.html', 'categories': ['fútbol', 'Primera División', 'Athletic de Bilbao', 'Fantasy MARCA', 'UEFA Europa League']}\n",
      "{'_id': ObjectId('67d1d1174cc04551e56eb7d6'), 'hash': '0d220ab3116a5886e19ba6ee07b3aa90e8191bf175d073e14e3bfad0ecb27858', 'title': 'El Villarreal presentará alegaciones a la fecha elegida para la disputa del partido aplazado ante el Espanyol', 'description': 'https://www.marca.com/futbol/villarreal/2025/03/12/villarreal-presentara-alegaciones-fecha-elegida-disputa-partido-aplazado-espanyol.html', 'categories': ['Primera División', 'Villarreal CF']}\n",
      "{'_id': ObjectId('67d1d1174cc04551e56eb7d7'), 'hash': '5f9040153481f0411022849cd69a1a6a77ccfc60da4a3063b6b25e8c2ced5006', 'title': 'Ángel Correa, sancionado con cinco partidos por sus insultos a Cuadra Fernández', 'description': 'https://www.marca.com/futbol/atletico/2025/03/12/angel-correa-sancionado-cinco-partidos-insultos-cuadra-fernandez.html', 'categories': ['Primera División', 'Atlético de Madrid', 'RFEF', 'Ángel Correa']}\n",
      "{'_id': ObjectId('67d1d1174cc04551e56eb7d8'), 'hash': '0604150d873708f58d869b133ee2b0551b652bef49414af91a5aa77af9a062aa', 'title': 'Gavi se cansa de especulaciones: \"Todo es mentira\"', 'description': 'https://www.marca.com/futbol/barcelona/2025/03/12/gavi-cansa-especulaciones-mentira.html', 'categories': ['Primera División', 'FC Barcelona', 'Gavi']}\n",
      "{'_id': ObjectId('67d1d1174cc04551e56eb7d9'), 'hash': '5c301154314fae892ff07fc2f68daf39f1c37e54c72d80d88ad1162fe9d22fb5', 'title': 'Rumbo a Portugal con la incógnita de Johnny Cardoso', 'description': 'https://www.marca.com/futbol/betis/2025/03/12/rumbo-portugal-incognita-johnny-cardoso.html', 'categories': ['Primera División', 'Real Betis Balompié']}\n",
      "{'_id': ObjectId('67d1d1174cc04551e56eb7da'), 'hash': 'afae36d23f38d08dcf138d27a093fd00764433bf0198383ae0caf3d8f9d76cc3', 'title': 'El Sevilla echa el cerrojo', 'description': 'https://www.marca.com/futbol/sevilla/2025/03/12/sevilla-echa-cerrojo.html', 'categories': ['Primera División', 'Sevilla FC', 'García Pimienta']}\n",
      "{'_id': ObjectId('67d1d1174cc04551e56eb7db'), 'hash': 'd8b8740376c084a68a77149ff011f21260667d0083312e21c207231d35e15ded', 'title': 'Santi Denia pierde a Robert Navarro por lesión... y sigue a Jan Salas', 'description': 'https://www.marca.com/futbol/mallorca/2025/03/12/santi-denia-pierde-robert-navarro-lesion-sigue-jan-salas.html', 'categories': ['Primera División', 'RCD Mallorca']}\n",
      "{'_id': ObjectId('67d1d1174cc04551e56eb7dc'), 'hash': '2defb9bbd8ff3fe1a9f4b0cb99617cf5b475f5b3b175e6a90ab6eb39482cc200', 'title': 'Malestar en el Espanyol con el calendario: Tres partidos seguidos fuera de casa', 'description': 'https://www.marca.com/futbol/espanyol/2025/03/12/malestar-espanyol-calendario-tres-partidos-seguidos-fuera-casa.html', 'categories': ['Primera División', 'RCD Espanyol']}\n",
      "{'_id': ObjectId('67d1d1174cc04551e56eb7dd'), 'hash': 'e6a849a807be50af5bd0a9b722ef66371998049e07172c1a631c6ad51761b16a', 'title': 'Borja Mayoral recupera la sonrisa un año después', 'description': 'https://www.marca.com/futbol/getafe/2025/03/12/borja-mayoral-recupera-sonrisa-ano-despues.html', 'categories': ['Primera División', 'Getafe CF', 'Borja Mayoral']}\n",
      "{'_id': ObjectId('67d1d1174cc04551e56eb7de'), 'hash': 'a8343e0e3475b426d671b3fb5a6b71033af126828ab8159c57b1b1d7682b7396', 'title': 'Vive el super partido por LaLiga con un plus de diversión', 'description': 'https://www.marca.com/fantasy-marca/2025/03/11/67d0b00346163f71278b45a6.html', 'categories': ['Fantasy MARCA', 'Primera División', 'Liga Española', 'Fútbol']}\n",
      "{'_id': ObjectId('67d1d1174cc04551e56eb7df'), 'hash': '5d99c102f2c86d08001506c04587fea4162fc7a4b3fb654143ceae69c9ce66dd', 'title': 'La Grada de Animación recuperará su fundamento y San Mamés será una caldera en el partido ante la Roma', 'description': 'https://www.marca.com/futbol/athletic/2025/03/11/grada-animacion-recuperara-fundamento-san-mames-sera-caldera-partido-roma.html', 'categories': ['fútbol', 'Primera División', 'Athletic de Bilbao', 'UEFA Europa League']}\n",
      "{'_id': ObjectId('67d1d1174cc04551e56eb7e0'), 'hash': '50db22f59246a176ed8b43a6530c51669a7edf2360fe7e21961c2d6b8ad32ff3', 'title': 'Henrique Silva llega a Valladolid para firmar por el Pucela', 'description': 'https://www.marca.com/futbol/valladolid/2025/03/11/henrique-silva-llega-valladolid-firmar-pucela.html', 'categories': ['Primera División', 'Real Valladolid CF', 'eLaLiga']}\n",
      "{'_id': ObjectId('67d1d1174cc04551e56eb7e1'), 'hash': 'd20e405615d79a4a69785afe2654da0762216545f0bb981806d94dbc58c8ed86', 'title': 'Guinea celebra su acierto con el pronóstico de Diakhaby, que vuelve a la selección un año después', 'description': 'https://www.marca.com/futbol/valencia/2025/03/11/guinea-celebra-acierto-pronostico-diakhaby-vuelve-seleccion-ano-despues.html', 'categories': ['Primera División', 'Valencia CF', 'Mouctar Diakhaby']}\n",
      "{'_id': ObjectId('67d1d1174cc04551e56eb7e2'), 'hash': 'f202be7ef02c34c0855d33771c4937ca4dc68c61ea8af0110e2d5460bc107ecc', 'title': 'El aplazado Villarreal-Espanyol se jugará el 9 de abril', 'description': 'https://www.marca.com/futbol/primera-division/2025/03/11/aplazado-villarreal-espanyol-jugara-9-abril.html', 'categories': ['Villarreal CF', 'RCD Espanyol', 'Primera División', 'Fantasy MARCA']}\n",
      "{'_id': ObjectId('67d1d1174cc04551e56eb7e3'), 'hash': 'c185c87930c29bc685c0f4cf90b3bc93e13b0879fd0cb2f161f4efccb9c97e75', 'title': 'Quién era Carles Miñarro, doctor en el cuerpo médico del Barça, fallecido esta semana', 'description': 'https://www.marca.com/futbol/barcelona/2025/03/11/carles-minarro-doctor-cuerpo-medico-barca-fallecido-semana.html', 'categories': ['fútbol', 'Fútbol Internacional', 'Primera División']}\n",
      "{'_id': ObjectId('67d1d1174cc04551e56eb7e4'), 'hash': 'b6bd99bf8b60e9574db1a1ddef429f9796a4789b83e30d7ab7abfb6af8afd90a', 'title': \"El 'gasto en defensa' merece la pena\", 'description': 'https://www.marca.com/fantasy-marca/2025/03/11/67d068ea22601d3e588b4584.html', 'categories': ['Fantasy MARCA', 'La Liga', 'Primera División', 'Fútbol', 'Liga Española']}\n",
      "{'_id': ObjectId('67d1d1174cc04551e56eb7e5'), 'hash': '36ed9fcf76bcd52723a7591af4a445c03eed53761b77714f96a71798421479d0', 'title': 'LaLiga denuncia insultos en los derbis catalán y andaluz', 'description': 'https://www.marca.com/futbol/primera-division/2025/03/11/laliga-denuncia-insultos-derbis-catalan-andaluz.html', 'categories': ['Primera División', 'Cádiz CF', 'Deportivo Alavés', 'RCD Espanyol', 'Málaga CF', 'Girona FC']}\n",
      "{'_id': ObjectId('67d1d1174cc04551e56eb7e6'), 'hash': '1798d1f3af24bfbaac960cd92a0d71839f4096220a3c13e3a513150c2bd533d4', 'title': 'El Valencia alucina en la mascletà: casi seis minutos atronadores para disparar 127 de kilos de pólvora', 'description': 'https://www.marca.com/futbol/valencia/2025/03/11/valencia-alucina-mascleta-seis-minutos-atronadores-disparar-127-kilos-polvora.html', 'categories': ['Primera División', 'Valencia CF']}\n",
      "{'_id': ObjectId('67d1d1174cc04551e56eb7e7'), 'hash': '10ceed9206a0ec70e469cbf4f2a4be6f790d669717d90c588cfc7d3ae4f1f15c', 'title': 'Radio MARCA Bilbao y Bacalo Eguino regalarán 500 kilos de bacalo si el Athletic gana la Europa League', 'description': 'https://www.marca.com/radio/2025/03/11/radio-marca-bilbao-bacalo-eguino-regalaran-500-kilos-bacalo-athletic-gana-europa-league.html', 'categories': ['fútbol', 'Primera División', 'Radio Marca', 'Athletic de Bilbao', 'UEFA Europa League']}\n",
      "{'_id': ObjectId('67d1d1174cc04551e56eb7e8'), 'hash': '5a2f54b7e85fca2f69948cb391eb7060d4ec3494bbcb2acade33512b69194de1', 'title': 'Serra Ferrer ve al Mallorca capaz de luchar por Europa y elogia la figura de Arrasate', 'description': 'https://www.marca.com/futbol/mallorca/2025/03/11/serra-ferrer-ve-mallorca-capaz-luchar-europa-elogia-figura-arrasate.html', 'categories': ['Primera División', 'RCD Mallorca']}\n",
      "{'_id': ObjectId('67d1d1174cc04551e56eb7e9'), 'hash': '6cb443ba2321550b409a7a6ac705f43854466be0ebde1d303fa148472726d145', 'title': \"Una jornada donde se jugó más de lo normal: tres partidos de más de 60'\", 'description': 'https://www.marca.com/futbol/primera-division/2025/03/11/jornada-jugo-normal-tres-partidos-60.html', 'categories': ['Primera División']}\n",
      "{'_id': ObjectId('67d1d1174cc04551e56eb7ea'), 'hash': 'f7ac301a658050d7dc862c9a72a56b08c5c48f654a29cbc8581837e99a536c06', 'title': 'Las dos caras de Las Palmas con Diego Martínez', 'description': 'https://www.marca.com/futbol/las-palmas/2025/03/11/dos-caras-palmas-diego-martinez.html', 'categories': ['Primera División', 'UD Las Palmas', 'Diego Martínez']}\n",
      "{'_id': ObjectId('67d1d1174cc04551e56eb7eb'), 'hash': 'a29523f43a55a24c33fd07b977013587c773b89ebaa560f1b41edd283f6ddd74', 'title': 'Pol Lozano, crítico con el árbitro del duelo ante el Girona: \"Me da la sensación que no todos habrían pitado penalti\"', 'description': 'https://www.marca.com/futbol/espanyol/2025/03/11/pol-lozano-critico-arbitro-duelo-girona-me-da-sensacion-todos-habrian-pitado-penalti.html', 'categories': ['Primera División', 'RCD Espanyol', 'Girona FC']}\n",
      "{'_id': ObjectId('67d1d1174cc04551e56eb7ec'), 'hash': '488291d5e1ddca4efd2a30d6efdca73be268cf24a38f8c6f608505e06fb20c9f', 'title': 'Max Aarons, el fichaje de invierno que se ha quedado congelado: el que menos juega de toda la Liga', 'description': 'https://www.marca.com/futbol/valencia/2025/03/11/max-aarons-fichaje-invierno-quedado-congelado-juega-toda-liga.html', 'categories': ['Primera División', 'LaLiga Fantasy', 'Valencia CF']}\n",
      "{'_id': ObjectId('67d1d1174cc04551e56eb7ed'), 'hash': 'a391c21eb64a5ca7e2e5a906088797a2fb01056444a2d2c7a5b8894522aefcf1', 'title': 'Joan García: “Cuando estás abajo en la pelea con tantos equipos tienes que hacerte fuerte como local\"', 'description': 'https://www.marca.com/futbol/espanyol/2025/03/11/joan-garcia-abajo-pelea-tantos-equipos-tienes-hacerte-fuerte-local.html', 'categories': ['Primera División', 'RCD Espanyol']}\n",
      "{'_id': ObjectId('67d1d1174cc04551e56eb7ee'), 'hash': '9a47d63a5711e97d477d23020e1654d0481b08589ef121571428cdb0f9127e0a', 'title': 'Saúl se supera como asistente', 'description': 'https://www.marca.com/futbol/sevilla/2025/03/11/saul-supera-asistente.html', 'categories': ['Primera División', 'Sevilla FC', 'Saúl Ñíguez']}\n",
      "{'_id': ObjectId('67d1d1174cc04551e56eb7ef'), 'hash': '76f7b98e24513cfc3c5b10a689a5308ceeedff33bcb8dbeefa881f5892b9efa2', 'title': 'Ramón Terrats... o cómo caer de pie en el Getafe', 'description': 'https://www.marca.com/futbol/getafe/2025/03/11/ramon-terrats-caer-pie-getafe.html', 'categories': ['Primera División', 'Getafe CF']}\n",
      "{'_id': ObjectId('67d1d1174cc04551e56eb7f0'), 'hash': '8f2c688f3f33a498de7e09251809c0d21619f0d795aad0de9c16ad790c3185bc', 'title': 'LaLiga pide personarse como acusación en la causa por la agresión a aficionados del Villarreal por parte de ultras del Valencia', 'description': 'https://www.marca.com/futbol/villarreal/2025/03/11/laliga-pide-personarse-acusacion-causa-agresion-aficionados-villarreal-parte-ultras-valencia.html', 'categories': ['Primera División', 'Valencia CF', 'Villarreal CF']}\n",
      "{'_id': ObjectId('67d1d1174cc04551e56eb7f1'), 'hash': '6499ee634880d0dae12630eb9c1763c58b1cdd1366c7c3ecb70e86a51a74f896', 'title': 'Berenguer opta al puesto que ante la Roma siempre ha sido de Unai Gómez', 'description': 'https://www.marca.com/futbol/athletic/2025/03/11/berenguer-opta-puesto-roma-siempre-sido-unai-gomez.html', 'categories': ['fútbol', 'Primera División', 'Athletic de Bilbao', 'UEFA Europa League']}\n",
      "{'_id': ObjectId('67d1d1174cc04551e56eb7f2'), 'hash': '118ca190af25205cb14fd8180fcb92ed137a798d9968f18c366183c417034b58', 'title': 'Un año de Claudio Giráldez', 'description': 'https://www.marca.com/futbol/celta/2025/03/11/ano-claudio-giraldez.html', 'categories': ['Primera División', 'RC Celta de Vigo']}\n",
      "{'_id': ObjectId('67d1d1174cc04551e56eb7f3'), 'hash': '9a5f46d1e2fd5799946892e9a85892cdfeceed32c44dc6c61e8c5aec24feae37', 'title': 'Unzué, tras confirmar que no sigue en televisión: \"Estoy preparado para lo que venga\"', 'description': 'https://www.marca.com/futbol/primera-division/2025/03/11/unzue-confirmar-sigue-television-preparado-venga.html', 'categories': ['Televisión', 'fútbol', 'Primera División']}\n",
      "{'_id': ObjectId('67d1d1174cc04551e56eb7f4'), 'hash': 'c29f8a095bb79896628784b7a06b70f9856c3592dd4c1ec10fa935c884c69906', 'title': 'Valverde protegió a Nuñez en Liga para hacerle titular frente a la Roma', 'description': 'https://www.marca.com/futbol/athletic/2025/03/11/valverde-protegio-nunez-liga-hacerle-titular-frente-roma.html', 'categories': ['fútbol', 'Primera División', 'Athletic de Bilbao', 'UEFA Europa League']}\n",
      "{'_id': ObjectId('67d1d1174cc04551e56eb7f5'), 'hash': 'ef69444d36bc5faa4ba706b5038784f950b06fc9bff4b9cd5d0839d8228e4315', 'title': 'En busca de los 40 puntos para soñar (en paz) con Europa', 'description': 'https://www.marca.com/futbol/mallorca/2025/03/11/busca-40-puntos-sonar-paz-europa.html', 'categories': ['Primera División', 'RCD Mallorca']}\n",
      "{'_id': ObjectId('67d1d1174cc04551e56eb7f6'), 'hash': '377376bc447250188553b8ee946b2f59c7105e2674457b9d027af67ae6b2ce3d', 'title': 'Vargas viaja a Alemania para pasar pruebas médicas complementarias', 'description': 'https://www.marca.com/futbol/sevilla/2025/03/11/vargas-viaja-alemania-pasar-pruebas-medicas-complementarias.html', 'categories': ['Primera División', 'Sevilla FC']}\n",
      "{'_id': ObjectId('67d1d1174cc04551e56eb7f7'), 'hash': '8e9d4ce3556720efb5f84a5010e2dbf4ea0f0d60e85e8bdc30e59bc4a0b48fc5', 'title': 'Manolo González: “Una lástima no meter el segundo, pero el trabajo del equipo ha sido importante”', 'description': 'https://www.marca.com/futbol/espanyol/2025/03/11/manolo-gonzalez-lastima-meter-segundo-trabajo-equipo-sido-importante.html', 'categories': ['Primera División', 'RCD Espanyol', 'Manolo González']}\n",
      "{'_id': ObjectId('67d1d1174cc04551e56eb7f8'), 'hash': '447b8ad1f5319c5aa8e8a39e4adbae6403ad082d641d80e382cf980c1ff21798', 'title': 'Stuani, un Pichichi incombustible', 'description': 'https://www.marca.com/futbol/girona/2025/03/10/stuani-pichichi-incombustible.html', 'categories': ['Primera División', 'Girona FC']}\n",
      "{'_id': ObjectId('67d1d5b54cc04551e56eb800'), 'hash': 'a4551abdd920089a1671e53f772b9234ce12612cc62dfa265bdcb8de54962c6e', 'title': '30.000 euros de multa para los dos agresores de los aficionados del Villarreal', 'description': 'https://www.marca.com/futbol/valencia/2025/03/12/30-000-euros-multa-dos-agresores-aficionados-villarreal.html', 'categories': ['Primera División', 'Valencia CF', 'Villarreal CF']}\n"
     ]
    }
   ],
   "source": [
    "# imprimir nombre de la coleccion\n",
    "print(db.list_collection_names())\n",
    "\n",
    "# comprobar lo q hay en la coleccion\n",
    "for doc in coleccion.find():\n",
    "    print(doc)"
   ]
  },
  {
   "cell_type": "code",
   "execution_count": 80,
   "metadata": {},
   "outputs": [
    {
     "data": {
      "text/plain": [
       "<pymongo.synchronous.cursor.Cursor at 0x72648537dab0>"
      ]
     },
     "execution_count": 80,
     "metadata": {},
     "output_type": "execute_result"
    }
   ],
   "source": [
    "# filtrar por los que son de liga\n",
    "articulos_la_liga = coleccion.find({\"categories\": \"La Liga\"})\n",
    "articulos_la_liga\n"
   ]
  },
  {
   "cell_type": "code",
   "execution_count": 81,
   "metadata": {},
   "outputs": [
    {
     "name": "stdout",
     "output_type": "stream",
     "text": [
      "{'_id': ObjectId('67d1d1174cc04551e56eb7cc'), 'hash': 'a2a4240a4fae9d662b2bbcd3fbbf8fd7e57ae2b842b79ab23ef1efb1490bef2c', 'title': 'Onces probables y chollos para la jornada 28 de LaLiga', 'description': 'https://www.marca.com/fantasy-marca/2025/03/12/67d09c4046163f46138b459a.html', 'categories': ['Fantasy MARCA', 'Primera División', 'La Liga', 'Liga Española', 'Fútbol']}\n",
      "{'_id': ObjectId('67d1d1174cc04551e56eb7e4'), 'hash': 'b6bd99bf8b60e9574db1a1ddef429f9796a4789b83e30d7ab7abfb6af8afd90a', 'title': \"El 'gasto en defensa' merece la pena\", 'description': 'https://www.marca.com/fantasy-marca/2025/03/11/67d068ea22601d3e588b4584.html', 'categories': ['Fantasy MARCA', 'La Liga', 'Primera División', 'Fútbol', 'Liga Española']}\n"
     ]
    }
   ],
   "source": [
    "for u in articulos_la_liga:\n",
    "    print(u)"
   ]
  },
  {
   "cell_type": "code",
   "execution_count": null,
   "metadata": {},
   "outputs": [],
   "source": []
  }
 ],
 "metadata": {
  "kernelspec": {
   "display_name": "Python 3",
   "language": "python",
   "name": "python3"
  },
  "language_info": {
   "codemirror_mode": {
    "name": "ipython",
    "version": 3
   },
   "file_extension": ".py",
   "mimetype": "text/x-python",
   "name": "python",
   "nbconvert_exporter": "python",
   "pygments_lexer": "ipython3",
   "version": "3.10.12"
  }
 },
 "nbformat": 4,
 "nbformat_minor": 2
}
