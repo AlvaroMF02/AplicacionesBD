{
 "cells": [
  {
   "cell_type": "code",
   "execution_count": 44,
   "id": "9856b57f",
   "metadata": {},
   "outputs": [],
   "source": [
    "import pandas as pd"
   ]
  },
  {
   "cell_type": "code",
   "execution_count": 45,
   "id": "7852e7d1",
   "metadata": {},
   "outputs": [
    {
     "data": {
      "text/html": [
       "<div>\n",
       "<style scoped>\n",
       "    .dataframe tbody tr th:only-of-type {\n",
       "        vertical-align: middle;\n",
       "    }\n",
       "\n",
       "    .dataframe tbody tr th {\n",
       "        vertical-align: top;\n",
       "    }\n",
       "\n",
       "    .dataframe thead th {\n",
       "        text-align: right;\n",
       "    }\n",
       "</style>\n",
       "<table border=\"1\" class=\"dataframe\">\n",
       "  <thead>\n",
       "    <tr style=\"text-align: right;\">\n",
       "      <th></th>\n",
       "      <th>Index</th>\n",
       "      <th>Customer Id</th>\n",
       "      <th>First Name</th>\n",
       "      <th>Last Name</th>\n",
       "      <th>Company</th>\n",
       "      <th>City</th>\n",
       "      <th>Country</th>\n",
       "      <th>Phone 1</th>\n",
       "      <th>Phone 2</th>\n",
       "      <th>Email</th>\n",
       "      <th>Subscription Date</th>\n",
       "      <th>Website</th>\n",
       "    </tr>\n",
       "  </thead>\n",
       "  <tbody>\n",
       "    <tr>\n",
       "      <th>0</th>\n",
       "      <td>1</td>\n",
       "      <td>dE014d010c7ab0c</td>\n",
       "      <td>Andrew</td>\n",
       "      <td>Goodman</td>\n",
       "      <td>Stewart-Flynn</td>\n",
       "      <td>Rowlandberg</td>\n",
       "      <td>Macao</td>\n",
       "      <td>846-790-4623x4715</td>\n",
       "      <td>(422)787-2331x71127</td>\n",
       "      <td>marieyates@gomez-spencer.info</td>\n",
       "      <td>2021-07-26</td>\n",
       "      <td>http://www.shea.biz/</td>\n",
       "    </tr>\n",
       "    <tr>\n",
       "      <th>1</th>\n",
       "      <td>2</td>\n",
       "      <td>2B54172c8b65eC3</td>\n",
       "      <td>Alvin</td>\n",
       "      <td>NaN</td>\n",
       "      <td>Terry, Proctor and Lawrence</td>\n",
       "      <td>Bethside</td>\n",
       "      <td>Papua New Guinea</td>\n",
       "      <td>124-597-8652x05682</td>\n",
       "      <td>321.441.0588x6218</td>\n",
       "      <td>alexandra86@mccoy.com</td>\n",
       "      <td>2021-06-24</td>\n",
       "      <td>http://www.pena-cole.com/</td>\n",
       "    </tr>\n",
       "    <tr>\n",
       "      <th>2</th>\n",
       "      <td>3</td>\n",
       "      <td>d794Dd48988d2ac</td>\n",
       "      <td>Jenna</td>\n",
       "      <td>Harding</td>\n",
       "      <td>Bailey Group</td>\n",
       "      <td>Moniquemouth</td>\n",
       "      <td>China</td>\n",
       "      <td>(335)987-3085x3780</td>\n",
       "      <td>NaN</td>\n",
       "      <td>justincurtis@pierce.org</td>\n",
       "      <td>2020-04-05</td>\n",
       "      <td>http://www.booth-reese.biz/</td>\n",
       "    </tr>\n",
       "    <tr>\n",
       "      <th>3</th>\n",
       "      <td>4</td>\n",
       "      <td>3b3Aa4aCc68f3Be</td>\n",
       "      <td>Fernando</td>\n",
       "      <td>Ford</td>\n",
       "      <td>Moss-Maxwell</td>\n",
       "      <td>Leeborough</td>\n",
       "      <td>Macao</td>\n",
       "      <td>(047)752-3122</td>\n",
       "      <td>048.779.5035x9122</td>\n",
       "      <td>adeleon@hubbard.org</td>\n",
       "      <td>2020-11-29</td>\n",
       "      <td>http://www.hebert.com/</td>\n",
       "    </tr>\n",
       "    <tr>\n",
       "      <th>4</th>\n",
       "      <td>5</td>\n",
       "      <td>D60df62ad2ae41E</td>\n",
       "      <td>Kara</td>\n",
       "      <td>Woods</td>\n",
       "      <td>Mccarthy-Kelley</td>\n",
       "      <td>Port Jacksonland</td>\n",
       "      <td>Nepal</td>\n",
       "      <td>+1-360-693-4419x19272</td>\n",
       "      <td>163-627-2565</td>\n",
       "      <td>jesus90@roberson.info</td>\n",
       "      <td>2022-04-22</td>\n",
       "      <td>http://merritt.com/</td>\n",
       "    </tr>\n",
       "  </tbody>\n",
       "</table>\n",
       "</div>"
      ],
      "text/plain": [
       "   Index      Customer Id First Name Last Name                      Company  \\\n",
       "0      1  dE014d010c7ab0c     Andrew   Goodman                Stewart-Flynn   \n",
       "1      2  2B54172c8b65eC3      Alvin       NaN  Terry, Proctor and Lawrence   \n",
       "2      3  d794Dd48988d2ac      Jenna   Harding                 Bailey Group   \n",
       "3      4  3b3Aa4aCc68f3Be   Fernando      Ford                 Moss-Maxwell   \n",
       "4      5  D60df62ad2ae41E       Kara     Woods              Mccarthy-Kelley   \n",
       "\n",
       "               City           Country                Phone 1  \\\n",
       "0       Rowlandberg             Macao      846-790-4623x4715   \n",
       "1          Bethside  Papua New Guinea     124-597-8652x05682   \n",
       "2      Moniquemouth             China     (335)987-3085x3780   \n",
       "3        Leeborough             Macao          (047)752-3122   \n",
       "4  Port Jacksonland             Nepal  +1-360-693-4419x19272   \n",
       "\n",
       "               Phone 2                          Email Subscription Date  \\\n",
       "0  (422)787-2331x71127  marieyates@gomez-spencer.info        2021-07-26   \n",
       "1    321.441.0588x6218          alexandra86@mccoy.com        2021-06-24   \n",
       "2                  NaN        justincurtis@pierce.org        2020-04-05   \n",
       "3    048.779.5035x9122            adeleon@hubbard.org        2020-11-29   \n",
       "4         163-627-2565          jesus90@roberson.info        2022-04-22   \n",
       "\n",
       "                       Website  \n",
       "0         http://www.shea.biz/  \n",
       "1    http://www.pena-cole.com/  \n",
       "2  http://www.booth-reese.biz/  \n",
       "3       http://www.hebert.com/  \n",
       "4          http://merritt.com/  "
      ]
     },
     "execution_count": 45,
     "metadata": {},
     "output_type": "execute_result"
    }
   ],
   "source": [
    "df = pd.read_csv(\"/home/albaro/Documentos/data/customers.csv\")\n",
    "df.head()"
   ]
  },
  {
   "cell_type": "code",
   "execution_count": 46,
   "id": "e2733bd1",
   "metadata": {},
   "outputs": [
    {
     "name": "stdout",
     "output_type": "stream",
     "text": [
      "Index                 0\n",
      "Customer Id          65\n",
      "First Name           81\n",
      "Last Name            65\n",
      "Company              81\n",
      "City                 59\n",
      "Country              63\n",
      "Phone 1              63\n",
      "Phone 2              64\n",
      "Email                81\n",
      "Subscription Date    61\n",
      "Website              78\n",
      "dtype: int64\n"
     ]
    }
   ],
   "source": [
    "print(df.isnull().sum())"
   ]
  },
  {
   "cell_type": "code",
   "execution_count": 47,
   "id": "6dc0f129",
   "metadata": {},
   "outputs": [
    {
     "data": {
      "text/plain": [
       "(1300, 12)"
      ]
     },
     "execution_count": 47,
     "metadata": {},
     "output_type": "execute_result"
    }
   ],
   "source": [
    "df.shape\n",
    "# noNan= df.dropna()\n",
    "# limpio = noNan.drop_duplicates(subset=['Customer Id'])\n",
    "# limpio"
   ]
  },
  {
   "cell_type": "code",
   "execution_count": 57,
   "id": "23b0a604",
   "metadata": {},
   "outputs": [
    {
     "name": "stderr",
     "output_type": "stream",
     "text": [
      "/tmp/ipykernel_26335/1844445411.py:2: FutureWarning: Downcasting object dtype arrays on .fillna, .ffill, .bfill is deprecated and will change in a future version. Call result.infer_objects(copy=False) instead. To opt-in to the future behavior, set `pd.set_option('future.no_silent_downcasting', True)`\n",
      "  agrup = sorted.groupby(\"Customer Id\").apply(lambda x: x.ffill().bfill()).drop_duplicates(subset = [\"Customer Id\"])\n",
      "/tmp/ipykernel_26335/1844445411.py:2: DeprecationWarning: DataFrameGroupBy.apply operated on the grouping columns. This behavior is deprecated, and in a future version of pandas the grouping columns will be excluded from the operation. Either pass `include_groups=False` to exclude the groupings or explicitly select the grouping columns after groupby to silence this warning.\n",
      "  agrup = sorted.groupby(\"Customer Id\").apply(lambda x: x.ffill().bfill()).drop_duplicates(subset = [\"Customer Id\"])\n"
     ]
    }
   ],
   "source": [
    "sorted = df.sort_values(\"Customer Id\")\n",
    "agrup = sorted.groupby(\"Customer Id\").apply(lambda x: x.ffill().bfill()).drop_duplicates(subset = [\"Customer Id\"])\n",
    "# for x in agrup:\n",
    "#     print(x)"
   ]
  },
  {
   "cell_type": "code",
   "execution_count": 55,
   "id": "22dccab0",
   "metadata": {},
   "outputs": [
    {
     "data": {
      "text/plain": [
       "Index                 0\n",
       "Customer Id           0\n",
       "First Name           43\n",
       "Last Name            35\n",
       "Company              40\n",
       "City                 27\n",
       "Country              37\n",
       "Phone 1              40\n",
       "Phone 2              37\n",
       "Email                47\n",
       "Subscription Date    28\n",
       "Website              44\n",
       "dtype: int64"
      ]
     },
     "execution_count": 55,
     "metadata": {},
     "output_type": "execute_result"
    }
   ],
   "source": [
    "agrup.isnull().sum()"
   ]
  },
  {
   "cell_type": "code",
   "execution_count": 61,
   "id": "cd4501af",
   "metadata": {},
   "outputs": [
    {
     "data": {
      "text/plain": [
       "(959, 12)"
      ]
     },
     "execution_count": 61,
     "metadata": {},
     "output_type": "execute_result"
    }
   ],
   "source": [
    "agrup.dropna()\n",
    "agrup.shape"
   ]
  },
  {
   "cell_type": "code",
   "execution_count": null,
   "id": "43e3f7c1",
   "metadata": {},
   "outputs": [],
   "source": []
  }
 ],
 "metadata": {
  "kernelspec": {
   "display_name": "Python 3",
   "language": "python",
   "name": "python3"
  },
  "language_info": {
   "codemirror_mode": {
    "name": "ipython",
    "version": 3
   },
   "file_extension": ".py",
   "mimetype": "text/x-python",
   "name": "python",
   "nbconvert_exporter": "python",
   "pygments_lexer": "ipython3",
   "version": "3.10.12"
  }
 },
 "nbformat": 4,
 "nbformat_minor": 5
}
