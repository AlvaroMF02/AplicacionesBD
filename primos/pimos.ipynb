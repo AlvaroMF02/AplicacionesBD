{
 "cells": [
  {
   "cell_type": "code",
   "execution_count": 57,
   "metadata": {},
   "outputs": [],
   "source": [
    "import math\n",
    "import time\n",
    "import concurrent.futures as con\n",
    "import os\n",
    "import random"
   ]
  },
  {
   "cell_type": "code",
   "execution_count": 40,
   "metadata": {},
   "outputs": [
    {
     "name": "stdout",
     "output_type": "stream",
     "text": [
      "19\n"
     ]
    }
   ],
   "source": [
    "def es_primo(num):\n",
    "    for n in range(2, int(math.sqrt(num)+1)):\n",
    "        if num % n == 0:\n",
    "            return False\n",
    "    return True\n",
    " \n",
    "def primos_rango(lista):\n",
    "    contador = 0\n",
    "    for i in range(lista[0], lista[1]):\n",
    "        if es_primo(i):\n",
    "            contador+=1\n",
    "    # print(f\"En el rango hay {contador} primos\")\n",
    "    return contador\n",
    "           \n",
    "print(primos_rango([5,78]))"
   ]
  },
  {
   "cell_type": "code",
   "execution_count": 34,
   "metadata": {},
   "outputs": [
    {
     "name": "stdout",
     "output_type": "stream",
     "text": [
      "7\n",
      "6\n",
      "17\n",
      "19\n"
     ]
    }
   ],
   "source": [
    "\n",
    "with con.ProcessPoolExecutor(max_workers=4) as pool_executor:\n",
    "    temp = pool_executor.map(primos_rango, [(1,15),(5,20),(1,58),(5,78)])\n"
   ]
  },
  {
   "cell_type": "code",
   "execution_count": 69,
   "metadata": {},
   "outputs": [],
   "source": [
    "def inicContador():\n",
    "    with open(\"archivo.txt\",\"w\") as f:\n",
    "        f.write(\"0\")\n",
    "\n",
    "def leerContador():\n",
    "    with open(\"archivo.txt\",\"r\") as f:\n",
    "        return int(f.read().strip())\n",
    "\n",
    "def escribContador(value):\n",
    "    with open(\"archivo.txt\",\"w\") as f:\n",
    "        f.write(str(value))\n",
    "    \n",
    "def incremContador():\n",
    "    valor = leerContador()\n",
    "    time.sleep(random.uniform(0.01,0.1))\n",
    "    valorNuevo = valor + 1\n",
    "    escribContador(valorNuevo)\n",
    "    print(f\"Proceso: {os.getpid()}, incrementó el contador a {valorNuevo}\")\n",
    "\n",
    "\n"
   ]
  },
  {
   "cell_type": "code",
   "execution_count": 70,
   "metadata": {},
   "outputs": [
    {
     "name": "stdout",
     "output_type": "stream",
     "text": [
      "Proceso: 6702, incrementó el contador a 5\n"
     ]
    }
   ],
   "source": [
    "incremContador()"
   ]
  },
  {
   "cell_type": "code",
   "execution_count": null,
   "metadata": {},
   "outputs": [],
   "source": [
    "with con.ProcessPoolExecutor(max_workers=4) as pool_executor:\n",
    "    futures = [executor.submit(incremContador) for _ in range(10)]"
   ]
  }
 ],
 "metadata": {
  "kernelspec": {
   "display_name": "Python 3",
   "language": "python",
   "name": "python3"
  },
  "language_info": {
   "codemirror_mode": {
    "name": "ipython",
    "version": 3
   },
   "file_extension": ".py",
   "mimetype": "text/x-python",
   "name": "python",
   "nbconvert_exporter": "python",
   "pygments_lexer": "ipython3",
   "version": "3.11.0rc1"
  }
 },
 "nbformat": 4,
 "nbformat_minor": 2
}
